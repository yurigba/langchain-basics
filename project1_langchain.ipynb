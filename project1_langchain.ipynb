{
 "cells": [
  {
   "cell_type": "markdown",
   "id": "4fb303c0-e7a0-4112-93b0-17620527e412",
   "metadata": {},
   "source": [
    "# Project: Question-answering on Private Documents"
   ]
  },
  {
   "cell_type": "code",
   "execution_count": 1,
   "id": "831c4a84-205d-443e-82ff-24db1535c856",
   "metadata": {},
   "outputs": [
    {
     "data": {
      "text/plain": [
       "True"
      ]
     },
     "execution_count": 1,
     "metadata": {},
     "output_type": "execute_result"
    }
   ],
   "source": [
    "import os\n",
    "from dotenv import load_dotenv, find_dotenv\n",
    "load_dotenv(find_dotenv(), override=True)"
   ]
  },
  {
   "cell_type": "code",
   "execution_count": 2,
   "id": "199c3012-3467-4ca1-814e-3749a0f878a3",
   "metadata": {},
   "outputs": [],
   "source": [
    "def load_document(path):\n",
    "    name, extension = os.path.splitext(path)\n",
    "\n",
    "    if extension == \".pdf\":\n",
    "        from langchain.document_loaders import PyPDFLoader\n",
    "        print(f\"Loading {path} using PyPDFLoader...\")\n",
    "        loader = PyPDFLoader(path)\n",
    "    elif extension == \".docx\":\n",
    "        from langchain.document_loaders import Docx2txtLoader\n",
    "        print(f\"Loading {path} using Docx2txtLoader...\")\n",
    "        loader = Docx2txtLoader(path)\n",
    "    else:\n",
    "        print(\"Document format is not supported. Returning empty document\")\n",
    "        return []\n",
    "    data = loader.load()\n",
    "    return data\n",
    "\n",
    "def load_from_wikipedia(query, lang=\"en\", load_max_docs=2):\n",
    "    from langchain.document_loaders import WikipediaLoader\n",
    "    loader = WikipediaLoader(query=query, lang=lang, load_max_docs=load_max_docs)\n",
    "    data = loader.load()\n",
    "    return data"
   ]
  },
  {
   "cell_type": "code",
   "execution_count": 3,
   "id": "727d57ea-db36-4685-b2fe-da3dde4b2b9d",
   "metadata": {},
   "outputs": [],
   "source": [
    "def chunk_data(data, chunk_size=256):\n",
    "    from langchain.text_splitter import RecursiveCharacterTextSplitter\n",
    "    text_splitter = RecursiveCharacterTextSplitter(chunk_size=chunk_size, chunk_overlap=0)\n",
    "    chunks = text_splitter.split_documents(data)\n",
    "    return chunks"
   ]
  },
  {
   "cell_type": "code",
   "execution_count": 4,
   "id": "29216b9d-90eb-4fea-863e-478f5931710a",
   "metadata": {},
   "outputs": [],
   "source": [
    "def print_embedding_cost(texts):\n",
    "    import tiktoken\n",
    "    enc = tiktoken.encoding_for_model(\"text-embedding-ada-002\")\n",
    "    total_tokens = sum([len(enc.encode(page.page_content)) for page in texts])\n",
    "    print(f\"Total Tokens: {total_tokens}\")\n",
    "    print(f\"Embedding cost in USD: {total_tokens / 1000 * 0.0004:.6f}\")"
   ]
  },
  {
   "cell_type": "code",
   "execution_count": 5,
   "id": "9d185eca-091f-479e-aa40-7a7f92250415",
   "metadata": {},
   "outputs": [],
   "source": [
    "def insert_or_fetch_embeddings(index_name, chunks=None):\n",
    "    import pinecone\n",
    "    from langchain.vectorstores import Pinecone\n",
    "    from langchain.embeddings.openai import OpenAIEmbeddings\n",
    "\n",
    "    embeddings = OpenAIEmbeddings()\n",
    "    pinecone.init(api_key=os.environ.get(\"PINECONE_API_KEY\"), environment=os.environ.get(\"PINECONE_ENV\"))\n",
    "\n",
    "    if index_name in pinecone.list_indexes():\n",
    "        print(f\"Index {index_name} exists! Loading embeddings from existing environment... \", end=\"\")\n",
    "        vector_store = Pinecone.from_existing_index(index_name, embeddings)\n",
    "        print(\"Loading successful\")\n",
    "\n",
    "    else:\n",
    "        print(f\"Creating index {index_name} and embeddings...\", end=\"\")\n",
    "        pinecone.create_index(index_name, dimension=1536, metric=\"cosine\")\n",
    "        vector_store = Pinecone.from_documents(chunks, embeddings, index_name=index_name)\n",
    "        print(\"Created embeddings from chunks\")\n",
    "\n",
    "    return vector_store\n",
    "\n",
    "def delete_pinecone_index(index_name=\"all\"):\n",
    "    import pinecone\n",
    "\n",
    "    pinecone.init(api_key=os.environ.get(\"PINECONE_API_KEY\"), environment=os.environ.get(\"PINECONE_ENV\"))\n",
    "\n",
    "    if index_name == \"all\":\n",
    "        indexes = pinecone.list_indexes()\n",
    "        print(\"Deleting all indexes ...\")\n",
    "        for index in indexes:\n",
    "            pinecone.delete_index(index)\n",
    "        print(\"Deleted all indexes.\")\n",
    "    else:\n",
    "        print(f\"Deleting index {index_name} ...\", end=\"\")\n",
    "        pinecone.delete_index(index_name)\n",
    "        print(f\"Deleted index {index_name}.\")"
   ]
  },
  {
   "cell_type": "code",
   "execution_count": 6,
   "id": "2295562b-f8b0-4181-91fe-9e3980b4085b",
   "metadata": {},
   "outputs": [],
   "source": [
    "def ask_and_get_answer(vector_store, q):\n",
    "    from langchain.chains import RetrievalQA\n",
    "    from langchain.chat_models import ChatOpenAI\n",
    "\n",
    "    llm = ChatOpenAI(model=\"gpt-3.5-turbo\", temperature=1)\n",
    "\n",
    "    retriever = vector_store.as_retriever(search_type=\"similarity\", search_kwargs={\"k\": 3})\n",
    "\n",
    "    chain = RetrievalQA.from_chain_type(llm=llm, chain_type=\"stuff\", retriever=retriever)\n",
    "\n",
    "    answer = chain.run(q)\n",
    "\n",
    "    return answer\n",
    "\n",
    "def ask_with_memory(vector_store, q, chat_history=[]):\n",
    "    from langchain.chains import ConversationalRetrievalChain\n",
    "    from langchain.chat_models import ChatOpenAI\n",
    "\n",
    "    llm = ChatOpenAI(temperature=1)\n",
    "\n",
    "    retriever = vector_store.as_retriever(search_type=\"similarity\", search_kwargs={\"k\": 3})\n",
    "\n",
    "    crc = ConversationalRetrievalChain.from_llm(llm, retriever)\n",
    "    result = crc({\"question\": q, \"chat_history\": chat_history})\n",
    "    chat_history.append((q, result[\"answer\"]))\n",
    "\n",
    "    return result[\"answer\"], chat_history"
   ]
  },
  {
   "cell_type": "markdown",
   "id": "97201c01-664d-487e-bd32-1d114546d9df",
   "metadata": {},
   "source": [
    "## Loading a local PDF"
   ]
  },
  {
   "cell_type": "code",
   "execution_count": 7,
   "id": "73cac278-b1ac-4030-89f7-89edb85c79c8",
   "metadata": {},
   "outputs": [
    {
     "name": "stdout",
     "output_type": "stream",
     "text": [
      "Loading files/kybalion.pdf using PyPDFLoader...\n"
     ]
    }
   ],
   "source": [
    "filepath = \"files/kybalion.pdf\"\n",
    "data = load_document(filepath)"
   ]
  },
  {
   "cell_type": "code",
   "execution_count": 8,
   "id": "dff9a5a0-7985-4b88-999e-b5ff316f2f17",
   "metadata": {},
   "outputs": [
    {
     "name": "stdout",
     "output_type": "stream",
     "text": [
      "58\n"
     ]
    }
   ],
   "source": [
    "print(len(data))"
   ]
  },
  {
   "cell_type": "code",
   "execution_count": 9,
   "id": "74a64b5c-7a43-430c-8b95-c728814f9e0a",
   "metadata": {},
   "outputs": [
    {
     "data": {
      "text/plain": [
       "('files/kybalion', '.pdf')"
      ]
     },
     "execution_count": 9,
     "metadata": {},
     "output_type": "execute_result"
    }
   ],
   "source": [
    "os.path.splitext(filepath)"
   ]
  },
  {
   "cell_type": "code",
   "execution_count": 10,
   "id": "0685b73e-ba4e-430f-a4ee-f63576163f7b",
   "metadata": {},
   "outputs": [
    {
     "name": "stdout",
     "output_type": "stream",
     "text": [
      "503\n",
      "since his time. All the fundamental and basic teachings embedded in the esoteric teachings \n",
      "of every race may be traced back to Hermes. Even the most ancient teachings of India undoubtedly have their roots in the original Hermetic Teachings. \n",
      "From the land of the Ganges many advanced occultists wandered to the land of Egypt, \n",
      "and sat at the feet of the Master. From him they obtained the Master-Key which explained \n",
      "and reconciled their divergent views, and thus the Secret Doctrine was firmly established.\n"
     ]
    }
   ],
   "source": [
    "chunks = chunk_data(data, chunk_size=512)\n",
    "print(len(chunks))\n",
    "print(chunks[11].page_content)"
   ]
  },
  {
   "cell_type": "code",
   "execution_count": 11,
   "id": "c9336c63-b5ae-43d3-8eab-f138981ebc3b",
   "metadata": {},
   "outputs": [
    {
     "name": "stdout",
     "output_type": "stream",
     "text": [
      "Total Tokens: 44847\n",
      "Embedding cost in USD: 0.017939\n"
     ]
    }
   ],
   "source": [
    "print_embedding_cost(chunks)"
   ]
  },
  {
   "cell_type": "code",
   "execution_count": 12,
   "id": "384c1f67-8d4b-4a61-b3ba-e77c83b5db92",
   "metadata": {},
   "outputs": [
    {
     "name": "stderr",
     "output_type": "stream",
     "text": [
      "/var/home/yabreu/mambaforge/envs/langchain/lib/python3.11/site-packages/pinecone/index.py:4: TqdmExperimentalWarning: Using `tqdm.autonotebook.tqdm` in notebook mode. Use `tqdm.tqdm` instead to force console mode (e.g. in jupyter console)\n",
      "  from tqdm.autonotebook import tqdm\n"
     ]
    },
    {
     "name": "stdout",
     "output_type": "stream",
     "text": [
      "Deleting all indexes ...\n",
      "Deleted all indexes.\n"
     ]
    }
   ],
   "source": [
    "delete_pinecone_index()"
   ]
  },
  {
   "cell_type": "code",
   "execution_count": 13,
   "id": "bcf95f9e-2a18-4fc6-9593-bc878d3a1ee9",
   "metadata": {},
   "outputs": [
    {
     "name": "stdout",
     "output_type": "stream",
     "text": [
      "Creating index askadocument and embeddings...Created embeddings from chunks\n"
     ]
    }
   ],
   "source": [
    "index_name = \"askadocument\"\n",
    "vector_store = insert_or_fetch_embeddings(index_name=index_name, chunks=chunks)"
   ]
  },
  {
   "cell_type": "code",
   "execution_count": 14,
   "id": "cc409f9d-973e-4bba-b218-51112a09cea2",
   "metadata": {},
   "outputs": [
    {
     "name": "stdout",
     "output_type": "stream",
     "text": [
      "The document is about exploring the nature of the Universe and the concept of \"THE ALL\" - a term used to describe the ultimate truth or reality that is beyond complete understanding or definition. It touches upon the idea that nothing exists outside of THE ALL, but also acknowledges that the Universe is constantly changing and made up of many parts. It suggests that while the essential nature of THE ALL is unknowable, there are certain truths about its existence that the human mind is compelled to accept. The document also mentions the reports and insights of the Illumined, who are believed to have knowledge from higher planes.\n"
     ]
    }
   ],
   "source": [
    "q = \"what is the whole document about?\"\n",
    "answer = ask_and_get_answer(vector_store, q)\n",
    "print(answer)"
   ]
  },
  {
   "cell_type": "code",
   "execution_count": 14,
   "id": "affc69e1-4551-46a8-a610-6906f798e123",
   "metadata": {},
   "outputs": [
    {
     "name": "stdout",
     "output_type": "stream",
     "text": [
      "Write Quit or Exit to quit.\n"
     ]
    },
    {
     "name": "stdin",
     "output_type": "stream",
     "text": [
      "Question #1:  What is THE ALL???\n"
     ]
    },
    {
     "name": "stdout",
     "output_type": "stream",
     "text": [
      "\n",
      "Answer: The essential nature of THE ALL, as described in the provided context, is said to be Unknowable. However, it is referred to as the Fundamental Truth or the Substantial Reality. It is beyond true naming, but it is called THE ALL by Wise Men. While it is difficult to fully grasp its existence, it is suggested that THE ALL is not something that can lose knowledge of itself or become something lower in nature, such as an atom or blind force. Some individuals have mistakenly concluded that they are identical to THE ALL, proclaiming themselves as God, which has amused the masses and saddened the wise.\n",
      "\n",
      " -------------------------------------------------- \n",
      "\n"
     ]
    },
    {
     "name": "stdin",
     "output_type": "stream",
     "text": [
      "Question #2:  quit\n"
     ]
    },
    {
     "name": "stdout",
     "output_type": "stream",
     "text": [
      "Quitting.\n"
     ]
    }
   ],
   "source": [
    "import time\n",
    "i = 1\n",
    "print(\"Write Quit or Exit to quit.\")\n",
    "while True:\n",
    "    q = input(f\"Question #{i}: \")\n",
    "    i = i+1\n",
    "    if q.lower() in [\"quit\", \"exit\"]:\n",
    "        print(\"Quitting.\")\n",
    "        time.sleep(2)\n",
    "        break\n",
    "\n",
    "    answer = ask_and_get_answer(vector_store, q)\n",
    "    print(f\"\\nAnswer: {answer}\")\n",
    "    print(f\"\\n {'-'*50} \\n\")\n",
    "    "
   ]
  },
  {
   "cell_type": "code",
   "execution_count": 17,
   "id": "63541174-3de8-496a-abb1-f2d7b3194b00",
   "metadata": {},
   "outputs": [
    {
     "name": "stdout",
     "output_type": "stream",
     "text": [
      "The main message of the text is to provide a reconciliation of seemingly contradictory ideas and to offer a statement of truth that will help students make sense of their acquired occult knowledge.\n",
      "[('What is the main message of the text?', 'The main message of the text is to provide a reconciliation of seemingly contradictory ideas and to offer a statement of truth that will help students make sense of their acquired occult knowledge.')]\n"
     ]
    }
   ],
   "source": [
    "chat_history = []\n",
    "question = \"What is the main message of the text?\"\n",
    "result, chat_history = ask_with_memory(vector_store, question, chat_history)\n",
    "print(result)\n",
    "print(chat_history)"
   ]
  },
  {
   "cell_type": "code",
   "execution_count": 19,
   "id": "429f2500-e7f4-459d-a9f3-35e2eb341923",
   "metadata": {},
   "outputs": [
    {
     "name": "stdout",
     "output_type": "stream",
     "text": [
      "Some examples of contradictory knowledge or paradoxes mentioned in the text are:\n",
      "\n",
      "- \"Thesis and antithesis are identical in nature, but different in degree\"\n",
      "- \"Opposites are the same, differing only in degree\"\n",
      "- \"The pairs of opposites may be reconciled\"\n",
      "- \"Extremes meet\"\n",
      "- \"Everything is and isn't, at the same time\"\n",
      "- \"All truths are but half-truths\"\n",
      "[('What is the main message of the text?', 'The main message of the text is to provide a reconciliation of seemingly contradictory ideas and to offer a statement of truth that will help students make sense of their acquired occult knowledge.'), ('can you give examples of these contractory knowledges?', 'Some examples of contradictory knowledge or paradoxes mentioned in the context are:\\n\\n1. \"Thesis and antithesis are identical in nature, but different in degree\" - This suggests that opposing ideas or concepts may actually have similarities while still being different from each other.\\n\\n2. \"Opposites are the same, differing only in degree\" - This paradox implies that things that seem completely opposite may actually have underlying similarities; they just differ in their intensity or degree.\\n\\n3. \"Extremes meet\" - This paradox suggests that extremes or extremes of a spectrum can, in some way, come together or have commonalities.\\n\\n4. \"Everything is and isn\\'t at the same time\" - This paradox challenges the binary thinking of existence and non-existence, suggesting that everything simultaneously exists and doesn\\'t exist in some sense.\\n\\nThese paradoxes highlight the complexity and interconnectedness of philosophical concepts and the limitations of human understanding.'), ('can you give examples of these contractory knowledges?', 'Some examples of contradictory knowledge or paradoxes mentioned in the text are:\\n\\n- \"Thesis and antithesis are identical in nature, but different in degree\"\\n- \"Opposites are the same, differing only in degree\"\\n- \"The pairs of opposites may be reconciled\"\\n- \"Extremes meet\"\\n- \"Everything is and isn\\'t, at the same time\"\\n- \"All truths are but half-truths\"')]\n"
     ]
    }
   ],
   "source": [
    "question = \"can you give examples of these contractory knowledges?\"\n",
    "result, chat_history = ask_with_memory(vector_store, question, chat_history)\n",
    "print(result)\n",
    "print(chat_history)"
   ]
  },
  {
   "cell_type": "code",
   "execution_count": 16,
   "id": "3f792fe4-1e21-4d38-8663-d7ef033dca70",
   "metadata": {},
   "outputs": [
    {
     "name": "stdout",
     "output_type": "stream",
     "text": [
      "Write Quit or Exit to quit.\n"
     ]
    },
    {
     "name": "stdin",
     "output_type": "stream",
     "text": [
      "Question #1:  What is are some key words on the text?\n"
     ]
    },
    {
     "name": "stdout",
     "output_type": "stream",
     "text": [
      "\n",
      "Answer: Some key words in the text are: quotation marks, credit, students, benefit, study, pages, Path to Mastery, HERMES TRISMEGISTUS, Master of Masters, Elementary Planes, Mineral, Plant, Animal, Human Mentality, Life, black keys, white keys, music, essential nature, Unknowable, truths, existence, human mind, reports, Illumined, higher planes, Fundamental Truth, Substantial Reality, Wise Men, THE ALL.\n",
      "\n",
      " -------------------------------------------------- \n",
      "\n"
     ]
    },
    {
     "name": "stdin",
     "output_type": "stream",
     "text": [
      "Question #2:  Tell something in the text about the last key word.\n"
     ]
    },
    {
     "name": "stdout",
     "output_type": "stream",
     "text": [
      "\n",
      "Answer: In the text, it is mentioned that \"THE ALL\" is the name given to the fundamental truth and substantial reality that is beyond true naming. It is also stated that while the essential nature of \"THE ALL\" is unknowable, there are certain truths connected with its existence that the human mind is compelled to accept. Additionally, it is mentioned that \"THE ALL\" is not an atom, blind force, or lowly living thing, and that some individuals mistakenly identify themselves as identical to \"THE ALL\" and claim to be God. Furthermore, it is said that \"THE ALL\" withdraws its attention from the universe at the end of countless cycles of time, and the spirit of each soul is not annihilated but infinitely expanded, merging the created with the creator.\n",
      "\n",
      " -------------------------------------------------- \n",
      "\n"
     ]
    },
    {
     "name": "stdin",
     "output_type": "stream",
     "text": [
      "Question #3:  quit\n"
     ]
    },
    {
     "name": "stdout",
     "output_type": "stream",
     "text": [
      "Quitting.\n"
     ]
    }
   ],
   "source": [
    "import time\n",
    "i = 1\n",
    "chat_history=[]\n",
    "print(\"Write Quit or Exit to quit.\")\n",
    "while True:\n",
    "    q = input(f\"Question #{i}: \")\n",
    "    i = i+1\n",
    "    if q.lower() in [\"quit\", \"exit\"]:\n",
    "        print(\"Quitting.\")\n",
    "        time.sleep(2)\n",
    "        break\n",
    "\n",
    "    answer, chat_history = ask_with_memory(vector_store, q, chat_history)\n",
    "    \n",
    "    print(f\"\\nAnswer: {answer}\")\n",
    "    print(f\"\\n {'-'*50} \\n\")\n",
    "    "
   ]
  },
  {
   "cell_type": "code",
   "execution_count": null,
   "id": "f56192dd-1217-4e19-90c2-d445e7cefa8a",
   "metadata": {},
   "outputs": [],
   "source": []
  }
 ],
 "metadata": {
  "kernelspec": {
   "display_name": "Python 3 (ipykernel)",
   "language": "python",
   "name": "python3"
  },
  "language_info": {
   "codemirror_mode": {
    "name": "ipython",
    "version": 3
   },
   "file_extension": ".py",
   "mimetype": "text/x-python",
   "name": "python",
   "nbconvert_exporter": "python",
   "pygments_lexer": "ipython3",
   "version": "3.11.5"
  }
 },
 "nbformat": 4,
 "nbformat_minor": 5
}
