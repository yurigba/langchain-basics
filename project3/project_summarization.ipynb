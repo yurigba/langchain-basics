{
 "cells": [
  {
   "cell_type": "code",
   "execution_count": 1,
   "metadata": {},
   "outputs": [
    {
     "data": {
      "text/plain": [
       "True"
      ]
     },
     "execution_count": 1,
     "metadata": {},
     "output_type": "execute_result"
    }
   ],
   "source": [
    "import os\n",
    "from dotenv import load_dotenv, find_dotenv\n",
    "load_dotenv(find_dotenv(), override=True)"
   ]
  },
  {
   "cell_type": "markdown",
   "metadata": {},
   "source": [
    "# Project: Summarization\n",
    "\n",
    "## A) Basic Prompt"
   ]
  },
  {
   "cell_type": "code",
   "execution_count": 2,
   "metadata": {},
   "outputs": [],
   "source": [
    "from langchain.chat_models import ChatOpenAI\n",
    "from langchain.schema import (\n",
    "    AIMessage,\n",
    "    HumanMessage,\n",
    "    SystemMessage\n",
    ")"
   ]
  },
  {
   "cell_type": "code",
   "execution_count": 3,
   "metadata": {},
   "outputs": [],
   "source": [
    "text = \"\"\"\n",
    "In computer science, functional programming is a programming paradigm where programs are constructed by applying and composing functions. It is a declarative programming paradigm in which function definitions are trees of expressions that map values to other values, rather than a sequence of imperative statements which update the running state of the program.\n",
    "In functional programming, functions are treated as first-class citizens, meaning that they can be bound to names (including local identifiers), passed as arguments, and returned from other functions, just as any other data type can. This allows programs to be written in a declarative and composable style, where small functions are combined in a modular manner.\n",
    "Functional programming is sometimes treated as synonymous with purely functional programming, a subset of functional programming which treats all functions as deterministic mathematical functions, or pure functions. When a pure function is called with some given arguments, it will always return the same result, and cannot be affected by any mutable state or other side effects. This is in contrast with impure procedures, common in imperative programming, which can have side effects (such as modifying the program's state or taking input from a user). Proponents of purely functional programming claim that by restricting side effects, programs can have fewer bugs, be easier to debug and test, and be more suited to formal verification.[1][2]\n",
    "Functional programming has its roots in academia, evolving from the lambda calculus, a formal system of computation based only on functions. Functional programming has historically been less popular than imperative programming, but many functional languages are seeing use today in industry and education, including Common Lisp, Scheme,[3][4][5][6] Clojure, Wolfram Language,[7][8] Racket,[9] Erlang,[10][11][12] Elixir,[13] OCaml,[14][15] Haskell,[16][17] and F#.[18][19] Functional programming is also key to some languages that have found success in specific domains, like JavaScript in the Web,[20] R in statistics,[21][22] J, K and Q in financial analysis, and XQuery/XSLT for XML.[23][24] Domain-specific declarative languages like SQL and Lex/Yacc use some elements of functional programming, such as not allowing mutable values.[25] In addition, many other programming languages support programming in a functional style or have implemented features from functional programming, such as C++11, C#,[26] Kotlin,[27] Perl,[28] PHP,[29] Python,[30] Go,[31] Rust,[32] Raku,[33] Scala,[34] and Java (since Java 8).[35]\n",
    "\"\"\"\n",
    "\n",
    "messages = [\n",
    "    SystemMessage(content=\"You are an expert copywriter with expertise in summarizing documents\"),\n",
    "    HumanMessage(content=f\"Please provide a short and concise summary of the following text: \\n TEXT: {text}\")\n",
    "]\n",
    "\n",
    "llm = ChatOpenAI(temperature=0, model_name=\"gpt-3.5-turbo\")"
   ]
  },
  {
   "cell_type": "code",
   "execution_count": 4,
   "metadata": {},
   "outputs": [
    {
     "data": {
      "text/plain": [
       "530"
      ]
     },
     "execution_count": 4,
     "metadata": {},
     "output_type": "execute_result"
    }
   ],
   "source": [
    "llm.get_num_tokens(text)"
   ]
  },
  {
   "cell_type": "code",
   "execution_count": 5,
   "metadata": {},
   "outputs": [],
   "source": [
    "summary_output = llm(messages)"
   ]
  },
  {
   "cell_type": "code",
   "execution_count": 6,
   "metadata": {},
   "outputs": [
    {
     "name": "stdout",
     "output_type": "stream",
     "text": [
      "Functional programming is a programming paradigm that focuses on constructing programs using functions. It is a declarative style of programming where functions are treated as first-class citizens, meaning they can be assigned to names, passed as arguments, and returned from other functions. Purely functional programming is a subset of functional programming that treats all functions as deterministic mathematical functions, without any side effects. Functional programming has its roots in academia and has historically been less popular than imperative programming, but many functional languages are now used in industry and education. It is also key to languages used in specific domains, such as JavaScript in web development and R in statistics. Many other programming languages also support functional programming or have implemented features from it.\n"
     ]
    }
   ],
   "source": [
    "print(summary_output.content)"
   ]
  },
  {
   "cell_type": "markdown",
   "metadata": {},
   "source": [
    "## Summarizing Using Prompt Templates"
   ]
  },
  {
   "cell_type": "code",
   "execution_count": 7,
   "metadata": {},
   "outputs": [],
   "source": [
    "from langchain import PromptTemplate\n",
    "from langchain.chains import LLMChain"
   ]
  },
  {
   "cell_type": "code",
   "execution_count": 8,
   "metadata": {},
   "outputs": [],
   "source": [
    "template = \"\"\"\n",
    "Write a concise and short summary of the following text:\n",
    "TEXT: `{text}`\n",
    "Translate the summary to {language}.\n",
    "\"\"\"\n",
    "\n",
    "prompt = PromptTemplate(\n",
    "    input_variables=[\"text\", \"language\"],\n",
    "    template=template\n",
    ")"
   ]
  },
  {
   "cell_type": "code",
   "execution_count": 9,
   "metadata": {},
   "outputs": [
    {
     "data": {
      "text/plain": [
       "551"
      ]
     },
     "execution_count": 9,
     "metadata": {},
     "output_type": "execute_result"
    }
   ],
   "source": [
    "llm.get_num_tokens(prompt.format(text=text, language=\"English\"))"
   ]
  },
  {
   "cell_type": "code",
   "execution_count": 10,
   "metadata": {},
   "outputs": [
    {
     "name": "stdout",
     "output_type": "stream",
     "text": [
      "A programação funcional é um paradigma de programação em que os programas são construídos aplicando e compondo funções. Nesse paradigma, as funções são tratadas como cidadãos de primeira classe, o que permite que sejam atribuídas a nomes, passadas como argumentos e retornadas de outras funções. A programação funcional é sinônimo de programação funcional pura, que trata todas as funções como funções matemáticas determinísticas e puras. Isso significa que uma função pura sempre retornará o mesmo resultado quando chamada com os mesmos argumentos e não será afetada por nenhum estado mutável ou efeito colateral. A programação funcional tem suas raízes na academia e tem sido cada vez mais utilizada na indústria e na educação. Muitas linguagens funcionais são usadas atualmente, como Common Lisp, Scheme, Clojure, Wolfram Language, Racket, Erlang, Elixir, OCaml, Haskell e F#. Além disso, muitas outras linguagens de programação suportam a programação em estilo funcional ou implementaram recursos da programação funcional.\n"
     ]
    }
   ],
   "source": [
    "chain = LLMChain(llm=llm, prompt=prompt)\n",
    "summary = chain.run({\"text\": text, \"language\": \"portuguese\"})\n",
    "print(summary)"
   ]
  },
  {
   "cell_type": "markdown",
   "metadata": {},
   "source": [
    "## Summarizing using StuffDocumentChain"
   ]
  },
  {
   "cell_type": "code",
   "execution_count": 11,
   "metadata": {},
   "outputs": [],
   "source": [
    "from langchain import PromptTemplate\n",
    "from langchain.chat_models import ChatOpenAI\n",
    "from langchain.chains.summarize import load_summarize_chain\n",
    "from langchain.docstore.document import Document"
   ]
  },
  {
   "cell_type": "code",
   "execution_count": 17,
   "metadata": {},
   "outputs": [],
   "source": [
    "def chunk_data(data, chunk_size=256):\n",
    "    from langchain.text_splitter import RecursiveCharacterTextSplitter\n",
    "    text_splitter = RecursiveCharacterTextSplitter(chunk_size=chunk_size, chunk_overlap=0)\n",
    "    chunks = text_splitter.split_documents(data)\n",
    "    return chunks\n",
    "\n",
    "with open(\"../files/mysticism_and_logic.txt\") as f:\n",
    "    text = f.read()\n",
    "        \n",
    "docs = chunk_data([Document(page_content=text)], chunk_size=512)[:3]\n",
    "llm = ChatOpenAI(temperature=0, model_name=\"gpt-3.5-turbo\")"
   ]
  },
  {
   "cell_type": "code",
   "execution_count": 18,
   "metadata": {},
   "outputs": [
    {
     "data": {
      "text/plain": [
       "langchain.schema.document.Document"
      ]
     },
     "execution_count": 18,
     "metadata": {},
     "output_type": "execute_result"
    }
   ],
   "source": [
    "type(docs[0])"
   ]
  },
  {
   "cell_type": "code",
   "execution_count": 19,
   "metadata": {},
   "outputs": [],
   "source": [
    "prompt_template = '''\n",
    "Write a concise and short summary of the following text.\n",
    "TEXT: `{text}`\n",
    "'''\n",
    "\n",
    "prompt = PromptTemplate(\n",
    "    input_variables=[\"text\"],\n",
    "    template=prompt_template\n",
    ")"
   ]
  },
  {
   "cell_type": "code",
   "execution_count": 20,
   "metadata": {},
   "outputs": [
    {
     "name": "stdout",
     "output_type": "stream",
     "text": [
      "\n",
      "\n",
      "\u001b[1m> Entering new StuffDocumentsChain chain...\u001b[0m\n",
      "\n",
      "\n",
      "\u001b[1m> Entering new LLMChain chain...\u001b[0m\n",
      "Prompt after formatting:\n",
      "\u001b[32;1m\u001b[1;3m\n",
      "Write a concise and short summary of the following text.\n",
      "TEXT: `Mysticism and Logic\n",
      "\n",
      "Metaphysics, or the attempt to conceive the world as a whole by means of thought, has been developed, from the first, by the union and conflict of two very different human impulses, the one urging men towards mysticism, the other urging them towards science. Some men have achieved greatness through one of these impulses alone, others through the other alone: in Hume, for example, the scientific impulse reigns quite unchecked, while in Blake a strong hostility to science co-exists with profound mystic\n",
      "\n",
      "insight. But the greatest men who have been philosophers have felt the need both of science and of mysticism: the attempt to harmonise the two was what made their life, and what always must, for all its arduous uncertainty, make philosophy, to some minds, a greater thing than either science or religion.`\n",
      "\u001b[0m\n",
      "\n",
      "\u001b[1m> Finished chain.\u001b[0m\n",
      "\n",
      "\u001b[1m> Finished chain.\u001b[0m\n"
     ]
    }
   ],
   "source": [
    "chain = load_summarize_chain(\n",
    "    llm,\n",
    "    chain_type=\"stuff\",\n",
    "    prompt = prompt,\n",
    "    verbose=True\n",
    ")\n",
    "\n",
    "output_summary = chain.run({\"input_documents\": docs})"
   ]
  },
  {
   "cell_type": "markdown",
   "metadata": {},
   "source": [
    "## Summarizing Large Documents Using map_reduce"
   ]
  },
  {
   "cell_type": "code",
   "execution_count": 21,
   "metadata": {},
   "outputs": [],
   "source": [
    "from langchain import PromptTemplate\n",
    "from langchain.chat_models import ChatOpenAI\n",
    "from langchain.chains.summarize import load_summarize_chain\n",
    "from langchain.text_splitter import RecursiveCharacterTextSplitter"
   ]
  },
  {
   "cell_type": "code",
   "execution_count": 31,
   "metadata": {},
   "outputs": [],
   "source": [
    "def chunk_data(data, chunk_size=256, chunk_overlap=0):\n",
    "    from langchain.text_splitter import RecursiveCharacterTextSplitter\n",
    "    text_splitter = RecursiveCharacterTextSplitter(chunk_size=chunk_size, chunk_overlap=chunk_overlap)\n",
    "    chunks = text_splitter.split_documents(data)\n",
    "    return chunks\n",
    "\n",
    "with open(\"../files/mysticism_and_logic.txt\") as f:\n",
    "    text = f.read()\n",
    "        \n",
    "docs = chunk_data([Document(page_content=text)], chunk_size=10000, chunk_overlap=50)\n",
    "llm = ChatOpenAI(temperature=0, model_name=\"gpt-3.5-turbo\")"
   ]
  },
  {
   "cell_type": "code",
   "execution_count": 32,
   "metadata": {},
   "outputs": [
    {
     "name": "stdout",
     "output_type": "stream",
     "text": [
      "11438\n",
      "6\n"
     ]
    }
   ],
   "source": [
    "print(llm.get_num_tokens(text))\n",
    "print(len(docs))"
   ]
  },
  {
   "cell_type": "code",
   "execution_count": 33,
   "metadata": {},
   "outputs": [],
   "source": [
    "chain = load_summarize_chain(\n",
    "    llm,\n",
    "    chain_type=\"map_reduce\",\n",
    "    verbose=False\n",
    ")\n",
    "output_summary = chain.run(docs)"
   ]
  },
  {
   "cell_type": "code",
   "execution_count": 34,
   "metadata": {},
   "outputs": [
    {
     "name": "stdout",
     "output_type": "stream",
     "text": [
      "The essay explores the blending of mysticism and science in the philosophies of Heraclitus and Plato, arguing that the harmonization of these two impulses makes philosophy a greater pursuit than either science or religion. It discusses the relationship between philosophy and science in Plato's teachings, critiques Bergson's advocacy of intuition over intellect, and argues against the practical importance of philosophy for animals and most people. The author criticizes the philosophy of evolution for its focus on progress and ethical dualism, and suggests that ethical considerations should be eliminated from philosophy. The essay concludes by advocating for a scientific philosophy that is humble, piecemeal, and capable of accepting the world without imposing human demands.\n"
     ]
    }
   ],
   "source": [
    "print(output_summary)"
   ]
  },
  {
   "cell_type": "code",
   "execution_count": 36,
   "metadata": {},
   "outputs": [
    {
     "data": {
      "text/plain": [
       "'Write a concise summary of the following:\\n\\n\\n\"{text}\"\\n\\n\\nCONCISE SUMMARY:'"
      ]
     },
     "execution_count": 36,
     "metadata": {},
     "output_type": "execute_result"
    }
   ],
   "source": [
    "chain.llm_chain.prompt.template"
   ]
  },
  {
   "cell_type": "code",
   "execution_count": 38,
   "metadata": {},
   "outputs": [
    {
     "data": {
      "text/plain": [
       "'Write a concise summary of the following:\\n\\n\\n\"{text}\"\\n\\n\\nCONCISE SUMMARY:'"
      ]
     },
     "execution_count": 38,
     "metadata": {},
     "output_type": "execute_result"
    }
   ],
   "source": [
    "chain.combine_document_chain.llm_chain.prompt.template"
   ]
  },
  {
   "cell_type": "markdown",
   "metadata": {},
   "source": [
    "## map_Reduce with custom prompts"
   ]
  },
  {
   "cell_type": "code",
   "execution_count": 39,
   "metadata": {},
   "outputs": [],
   "source": [
    "map_prompt = \"\"\"\n",
    "Write a short and concise summary of the following:\n",
    "Text: `{text}`\n",
    "CONCISE SUMMARY: \n",
    "\"\"\"\n",
    "\n",
    "map_prompt_template = PromptTemplate(\n",
    "    input_variables=[\"text\"],\n",
    "    template=map_prompt\n",
    ")"
   ]
  },
  {
   "cell_type": "code",
   "execution_count": 40,
   "metadata": {},
   "outputs": [],
   "source": [
    "combine_prompt = \"\"\"\n",
    "Write a concise summary of the following text that covers the key points.\n",
    "Add a title to the summary.\n",
    "Start your summary with an INTRODUCTION PARAGRAPH that gives an overview of the topic FOLLOWED\n",
    "by BULLET POINTS if possible AND end the summary with a CONCLUSION PHRASE.\n",
    "Text: `{text}`\n",
    "\"\"\" \n",
    "\n",
    "combine_prompt_template = PromptTemplate(template=combine_prompt, input_variables=[\"text\"])"
   ]
  },
  {
   "cell_type": "code",
   "execution_count": 41,
   "metadata": {
    "scrolled": true
   },
   "outputs": [
    {
     "name": "stdout",
     "output_type": "stream",
     "text": [
      "\n",
      "\n",
      "\u001b[1m> Entering new MapReduceDocumentsChain chain...\u001b[0m\n",
      "\n",
      "\n",
      "\u001b[1m> Entering new LLMChain chain...\u001b[0m\n",
      "Prompt after formatting:\n",
      "\u001b[32;1m\u001b[1;3m\n",
      "Write a short and concise summary of the following:\n",
      "Text: `Mysticism and Logic\n",
      "Metaphysics, or the attempt to conceive the world as a whole by means of thought, has been developed, from the first, by the union and conflict of two very different human impulses, the one urging men towards mysticism, the other urging them towards science. Some men have achieved greatness through one of these impulses alone, others through the other alone: in Hume, for example, the scientific impulse reigns quite unchecked, while in Blake a strong hostility to science co-exists with profound mystic insight. But the greatest men who have been philosophers have felt the need both of science and of mysticism: the attempt to harmonise the two was what made their life, and what always must, for all its arduous uncertainty, make philosophy, to some minds, a greater thing than either science or religion.\n",
      "\n",
      "Before attempting an explicit characterisation of the scientific and the mystical impulses, I will illustrate them by examples from two philosophers whose greatness lies in the very intimate blending which they achieved. The two philosophers I mean are Heraclitus and Plato.\n",
      "\n",
      "Heraclitus, as every one knows, was a believer in universal flux: time builds and destroys all things. From the few fragments that remain, it is not easy to discover how he arrived at his opinions, but there are some sayings that strongly suggest scientific observation as the source.\n",
      "\n",
      "“The things that can be seen, heard, and learned,” he says, “are what I prize the most.” This is the language of the empiricist, to whom observation is the sole guarantee of truth. “The sun is new every day,” is another fragment; and this opinion, in spite of its paradoxical character, is obviously inspired by scientific reflection, and no doubt seemed to him to obviate the difficulty of understanding how the sun can work its way underground from west to east during the night. Actual observation must also have suggested to him his central doctrine, that Fire is the one permanent substance, of which all visible things are passing phases. In combustion we see things change utterly, while their flame and heat rise up into the air and vanish.\n",
      "\n",
      "“This world, which is the same for all,” he says, “no one of gods or men has made; but it was ever, is now, and ever shall be, an ever-living Fire, with measures kindling, and measures going out.”\n",
      "\n",
      "“The transformations of Fire are, first of all, sea; and half of the sea is earth, half whirlwind.”\n",
      "\n",
      "This theory, though no longer one which science can accept, is nevertheless scientific in spirit. Science, too, might have inspired the famous saying to which Plato alludes: “You cannot step twice into the same rivers; for fresh waters are ever flowing in upon you.” But we find also another statement among the extant fragments: “We step and do not step into the same rivers; we are and are not.”\n",
      "\n",
      "The comparison of this statement, which is mystical, with the one quoted by Plato, which is scientific, shows how intimately the two tendencies are blended in the system of Heraclitus. Mysticism is, in essence, little more than a certain intensity and depth of feeling in regard to what is believed about the universe; and this kind of feeling leads Heraclitus, on the basis of his science, to strangely poignant sayings concerning life and the world, such as:\n",
      "\n",
      "“Time is a child playing draughts, the kingly power is a child’s.”\n",
      "\n",
      "It is poetic imagination, not science, which presents Time as despotic lord of the world, with all the irresponsible frivolity of a child. It is mysticism, too, which leads Heraclitus to assert the identity of opposites: “Good and ill are one,” he says; and again: “To God all things are fair and good and right, but men hold some things wrong and some right.”\n",
      "\n",
      "Much of mysticism underlies the ethics of Heraclitus. It is true that a scientific determinism alone might have inspired the statement: “Man’s character is his fate”; but only a mystic would have said:\n",
      "\n",
      "“Every beast is driven to the pasture with blows”; and again:\n",
      "\n",
      "“It is hard to fight with one’s heart’s desire. Whatever it wishes to get, it purchases at the cost of soul”; and again:\n",
      "\n",
      "“Wisdom is one thing. It is to know the thought by which all things are steered through all things.\"[1]\n",
      "\n",
      "Examples might be multiplied, but those that have been given are enough to show the character of the man: the facts of science, as they appeared to him, fed the flame in his soul, and in its light he saw into the depths of the world by the reflection of his own dancing swiftly penetrating fire. In such a nature we see the true union of the mystic and the man of science—the highest eminence, as I think, that it is possible to achieve in the world of thought.\n",
      "\n",
      "In Plato, the same twofold impulse exists, though the mystic impulse is distinctly the stronger of the two, and secures ultimate victory whenever the conflict is sharp. His description of the cave is the classical statement of belief in a knowledge and reality truer and more real than that of the senses:\n",
      "\n",
      "“Imagine[2] a number of men living in an underground cavernous chamber, with an entrance open to the light, extending along the entire length of the cavern, in which they have been confined, from their childhood, with their legs and necks so shackled that they are obliged to sit still and look straight forwards, because their chains render it impossible for them to turn their heads round: and imagine a bright fire burning some way off, above and behind them, and an elevated roadway passing between the fire and the prisoners, with a low wall built along it, like the screens which conjurors put up in front of their audience, and above which they exhibit their wonders.\n",
      "\n",
      "I have it, he replied.\n",
      "\n",
      "Also figure to yourself a number of persons walking behind this wall, and carrying with them statues of men, and images of other animals, wrought in wood and stone and all kinds of materials, together with various other articles, which overtop the wall; and, as you might expect, let some of the passers-by be talking, and others silent.\n",
      "\n",
      "You are describing a strange scene, and strange prisoners.\n",
      "\n",
      "They resemble us, I replied.\n",
      "\n",
      "Now consider what would happen if the course of nature brought them a release from their fetters, and a remedy for their foolishness, in the following manner. Let us suppose that one of them has been released, and compelled suddenly to stand up, and turn his neck round and walk with open eyes towards the light; and let us suppose that he goes through all these actions with pain, and that the dazzling splendour renders him incapable of discerning those objects of which he used formerly to see the shadows. What answer should you expect him to make, if some one were to tell him that in those days he was watching foolish phantoms, but that now he is somewhat nearer to reality, and is turned towards things more real, and sees more correctly; above all, if he were to point out to him the several objects that are passing by, and question him, and compel him to answer what they are? Should you not expect him to be puzzled, and to regard his old visions as truer than the objects now forced upon his notice?\n",
      "\n",
      "Yes, much truer…\n",
      "\n",
      "Hence, I suppose, habit will be necessary to enable him to perceive objects in that upper world. At first he will be most successful in distinguishing shadows; then he will discern the reflections of men and other things in water, and afterwards the realities; and after this he will raise his eyes to encounter the light of the moon and stars, finding it less difficult to study the heavenly bodies and the heaven itself by night, than the sun and the sun’s light by day.\n",
      "\n",
      "Doubtless.\n",
      "\n",
      "Last of all, I imagine, he will be able to observe and contemplate the nature of the sun, not as it appears in water or on alien ground, but as it is in itself in its own territory.\n",
      "\n",
      "Of course.\n",
      "\n",
      "His next step will be to draw the conclusion, that the sun is the author of the seasons and the years, and the guardian of all things in the visible world, and in a manner the cause of all those things which he and his companions used to see.\n",
      "\n",
      "Obviously, this will be his next step—\n",
      "\n",
      "Now this imaginary case, my dear Glancon, you must apply in all its parts to our former statements, by comparing the region which the eye reveals, to the prison house, and the light of the fire therein to the power of the sun: and if, by the upward ascent and the contemplation of the upper world, you understand the mounting of the soul into the intellectual region, you will hit the tendency of my own surmises, since you desire to be told what they are; though, indeed, God only knows whether they are correct. But, be that as it may, the view which I take of the subject is to the following effect. In the world of knowledge, the essential Form of Good is the limit of our enquiries, and can barely be perceived; but, when perceived, we cannot help concluding that it is in every case the source of all that is bright and beautiful,—in the visible world giving birth to light and its master, and in the intellectual world dispensing, immediately and with full authority, truth and reason;—and that whosoever would act wisely, either in private or in public, must set this Form of Good before his eyes.”`\n",
      "CONCISE SUMMARY: \n",
      "\u001b[0m\n",
      "Prompt after formatting:\n",
      "\u001b[32;1m\u001b[1;3m\n",
      "Write a short and concise summary of the following:\n",
      "Text: `But in this passage, as throughout most of Plato’s teaching, there is an identification of the good with the truly real, which became embodied in the philosophical tradition, and is still largely operative in our own day. In thus allowing a legislative function to the good, Plato produced a divorce between philosophy and science, from which, in my opinion, both have suffered ever since and are still suffering. The man of science, whatever his hopes may be, must lay them aside while he studies nature; and the philosopher, if he is to achieve truth must do the same. Ethical considerations can only legitimately appear when the truth has been ascertained: they can and should appear as determining our feeling towards the truth, and our manner of ordering our lives in view of the truth, but not as themselves dictating what the truth is to be.\n",
      "\n",
      "There are passages in Plato—among those which illustrate the scientific side of his mind—where he seems clearly aware of this. The most noteworthy is the one in which Socrates, as a young man, is explaining the theory of ideas to Parmenides.\n",
      "\n",
      "After Socrates has explained that there is an idea of the good, but not of such things as hair and mud and dirt, Parmenides advises him “not to despise even the meanest things,” and this advice shows the genuine scientific temper. It is with this impartial temper that the mystic’s apparent insight into a higher reality and a hidden good has to be combined if philosophy is to realise its greatest possibilities. And it is failure in this respect that has made so much of idealistic philosophy thin, lifeless, and insubstantial. It is only in marriage with the world that our ideals can bear fruit: divorced from it, they remain barren. But marriage with the world is not to be achieved by an ideal which shrinks from fact, or demands in advance that the world shall conform to its desires.\n",
      "\n",
      "Parmenides himself is the source of a peculiarly interesting strain of mysticism which pervades Plato’s thought—the mysticism which may be called “logical” because it is embodied in theories on logic. This form of mysticism, which appears, so far as the West is concerned, to have originated with Parmenides, dominates the reasonings of all the great mystical metaphysicians from his day to that of Hegel and his modern disciples. Reality, he says, is uncreated, indestructible, unchanging, indivisible; it is “immovable in the bonds of mighty chains, without beginning and without end; since coming into being and passing away have been driven afar, and true belief has cast them away.” The fundamental principle of his inquiry is stated in a sentence which would not be out of place in Hegel: “Thou canst not know what is not—that is impossible—nor utter it; for it is the same thing that can be thought and that can be.” And again: “It needs must be that what can be thought and spoken of is; for it is possible for it to be, and it is not possible for what is nothing to be.” The impossibility of change follows from this principle; for what is past can be spoken of, and therefore, by the principle, still is.\n",
      "\n",
      "Mystical philosophy, in all ages and in all parts of the world, is characterised by certain beliefs which are illustrated by the doctrines we have been considering.\n",
      "\n",
      "There is, first, the belief in insight as against discursive analytic knowledge: the belief in a way of wisdom, sudden, penetrating, coercive, which is contrasted with the slow and fallible study of outward appearance by a science relying wholly upon the senses. All who are capable of absorption in an inward passion must have experienced at times the strange feeling of unreality in common objects, the loss of contact with daily things, in which the solidity of the outer world is lost, and the soul seems, in utter loneliness, to bring forth, out of its own depths, the mad dance of fantastic phantoms which have hitherto appeared as independently real and living. This is the negative side of the mystic’s initiation: the doubt concerning common knowledge, preparing the way for the reception of what seems a higher wisdom. Many men to whom this negative experience is familiar do not pass beyond it, but for the mystic it is merely the gateway to an ampler world.\n",
      "\n",
      "The mystic insight begins with the sense of a mystery unveiled, of a hidden wisdom now suddenly become certain beyond the possibility of a doubt. The sense of certainty and revelation comes earlier than any definite belief. The definite beliefs at which mystics arrive are the result of reflection upon the inarticulate experience gained in the moment of insight. Often, beliefs which have no real connection with this moment become subsequently attracted into the central nucleus; thus in addition to the convictions which all mystics share, we find, in many of them, other convictions of a more local and temporary character, which no doubt become amalgamated with what was essentially mystical in virtue of their subjective certainty. We may ignore such inessential accretions, and confine ourselves to the beliefs which all mystics share.\n",
      "\n",
      "The first and most direct outcome of the moment of illumination is belief in the possibility of a way of knowledge which may be called revelation or insight or intuition, as contrasted with sense, reason, and analysis, which are regarded as blind guides leading to the morass of illusion. Closely connected with this belief is the conception of a Reality behind the world of appearance and utterly different from it. This Reality is regarded with an admiration often amounting to worship; it is felt to be always and everywhere close at hand, thinly veiled by the shows of sense, ready, for the receptive mind, to shine in its glory even through the apparent folly and wickedness of Man. The poet, the artist, and the lover are seekers after that glory: the haunting beauty that they pursue is the faint reflection of its sun. But the mystic lives in the full light of the vision: what others dimly seek he knows, with a knowledge beside which all other knowledge is ignorance.\n",
      "\n",
      "The second characteristic of mysticism is its belief in unity, and its refusal to admit opposition or division anywhere. We found Heraclitus saying “good and ill are one”; and again he says, “the way up and the way down is one and the same.” The same attitude appears in the simultaneous assertion of contradictory propositions, such as: “We step and do not step into the same rivers; we are and are not.” The assertion of Parmenides, that reality is one and indivisible, comes from the same impulse towards unity. In Plato, this impulse is less prominent, being held in check by his theory of ideas; but it reappears, so far as his logic permits, in the doctrine of the primacy of the Good.\n",
      "\n",
      "A third mark of almost all mystical metaphysics is the denial of the reality of Time. This is an outcome of the denial of division; if all is one, the distinction of past and future must be illusory. We have seen this doctrine prominent in Parmenides; and among moderns it is fundamental in the systems of Spinoza and Hegel.\n",
      "\n",
      "The last of the doctrines of mysticism which we have to consider is its belief that all evil is mere appearance, an illusion produced by the divisions and oppositions of the analytic intellect. Mysticism does not maintain that such things as cruelty, for example, are good, but it denies that they are real: they belong to that lower world of phantoms from which we are to be liberated by the insight of the vision. Sometimes—for example in Hegel, and at least verbally in Spinoza—not only evil, but good also, is regarded as illusory, though nevertheless the emotional attitude towards what is held to be Reality is such as would naturally be associated with the belief that Reality is good. What is, in all cases, ethically characteristic of mysticism is absence of indignation or protest, acceptance with joy, disbelief in the ultimate truth of the division into two hostile camps, the good and the bad. This attitude is a direct outcome of the nature of the mystical experience: with its sense of unity is associated a feeling of infinite peace. Indeed it may be suspected that the feeling of peace produces, as feelings do in dreams, the whole system of associated beliefs which make up the body of mystic doctrine. But this is a difficult question, and one on which it cannot be hoped that mankind will reach agreement.\n",
      "\n",
      "Four questions thus arise in considering the truth or falsehood of mysticism, namely:\n",
      "\n",
      "I. Are there two ways of knowing, which may be called respectively reason and intuition? And if so, is either to be preferred to the other?\n",
      "\n",
      "II. Is all plurality and division illusory?\n",
      "\n",
      "III. Is time unreal?\n",
      "\n",
      "IV. What kind of reality belongs to good and evil?\n",
      "\n",
      "On all four of these questions, while fully developed mysticism seems to me mistaken, I yet believe that, by sufficient restraint, there is an element of wisdom to be learned from the mystical way of feeling, which does not seem to be attainable in any other manner. If this is the truth, mysticism is to be commended as an attitude towards life, not as a creed about the world. The meta-physical creed, I shall maintain, is a mistaken outcome of the emotion, although this emotion, as colouring and informing all other thoughts and feelings, is the inspirer of whatever is best in Man. Even the cautious and patient investigation of truth by science, which seems the very antithesis of the mystic’s swift certainty, may be fostered and nourished by that very spirit of reverence in which mysticism lives and moves.`\n",
      "CONCISE SUMMARY: \n",
      "\u001b[0m\n",
      "Prompt after formatting:\n",
      "\u001b[32;1m\u001b[1;3m\n",
      "Write a short and concise summary of the following:\n",
      "Text: `I. Reason and Intuition[3]\n",
      "Of the reality or unreality of the mystic’s world I know nothing. I have no wish to deny it, nor even to declare that the insight which reveals it is not a genuine insight. What I do wish to maintain—and it is here that the scientific attitude becomes imperative—is that insight, untested and unsupported, is an insufficient guarantee of truth, in spite of the fact that much of the most important truth is first suggested by its means. It is common to speak of an opposition between instinct and reason; in the eighteenth century, the opposition was drawn in favour of reason, but under the influence of Rousseau and the romantic movement instinct was given the preference, first by those who rebelled against artificial forms of government and thought, and then, as the purely rationalistic defence of traditional theology became increasingly difficult, by all who felt in science a menace to creeds which they associated with a spiritual outlook on life and the world. Bergson, under the name of “intuition,” has raised instinct to the position of sole arbiter of metaphysical truth. But in fact the opposition of instinct and reason is mainly illusory. Instinct, intuition, or insight is what first leads to the beliefs which subsequent reason confirms or confutes; but the confirmation, where it is possible, consists, in the last analysis, of agreement with other beliefs no less instinctive. Reason is a harmonising, controlling force rather than a creative one. Even in the most purely logical realm, it is insight that first arrives at what is new.\n",
      "\n",
      "Where instinct and reason do sometimes conflict is in regard to single beliefs, held instinctively, and held with such determination that no degree of inconsistency with other beliefs leads to their abandonment. Instinct, like all human faculties, is liable to error. Those in whom reason is weak are often unwilling to admit this as regards themselves, though all admit it in regard to others. Where instinct is least liable to error is in practical matters as to which right judgment is a help to survival: friendship and hostility in others, for instance, are often felt with extraordinary discrimination through very careful disguises. But even in such matters a wrong impression may be given by reserve or flattery; and in matters less directly practical, such as philosophy deals with, very strong instinctive beliefs are sometimes wholly mistaken, as we may come to know through their perceived inconsistency with other equally strong beliefs. It is such considerations that necessitate the harmonising mediation of reason, which tests our beliefs by their mutual compatibility, and examines, in doubtful cases, the possible sources of error on the one side and on the other. In this there is no opposition to instinct as a whole, but only to blind reliance upon some one interesting aspect of instinct to the exclusion of other more commonplace but not less trustworthy aspects. It is such one-sidedness, not instinct itself, that reason aims at correcting.\n",
      "\n",
      "These more or less trite maxims may be illustrated by application to Bergson’s advocacy of “intuition” as against “intellect.” There are, he says, “two profoundly different ways of knowing a thing. The first implies that we move round the object: the second that we enter into it. The first depends on the point of view at which we are placed and on the symbols by which we express ourselves. The second neither depends on a point of view nor relies on any symbol. The first kind of knowledge may be said to stop at the relative; the second, in those cases where it is possible, to attain the absolute.”[4] The second of these, which is intuition, is, he says, “the kind of intellectual sympathy by which one places oneself within an object in order to coincide with what is unique in it and therefore inexpressible” (p. 6). In illustration, he mentions self-knowledge: “there is one reality, at least, which we all seize from within, by intuition and not by simple analysis. It is our own personality in its flowing through time—our self which endures” (p. 8). The rest of Bergson’s philosophy consists in reporting, through the imperfect medium of words, the knowledge gained by intuition, and the consequent complete condemnation of all the pretended knowledge derived from science and common sense.\n",
      "\n",
      "This procedure, since it takes sides in a conflict of instinctive beliefs, stands in need of justification by proving the greater trustworthiness of the beliefs on one side than of those on the other. Bergson attempts this justification in two ways, first by explaining that intellect is a purely practical faculty to secure biological success, secondly by mentioning remarkable feats of instinct in animals and by pointing out characteristics of the world which, though intuition can apprehend them, are baffling to intellect as he interprets it.\n",
      "\n",
      "Of Bergson’s theory that intellect is a purely practical faculty, developed in the struggle for survival, and not a source of true beliefs, we may say, first, that it is only through intellect that we know of the struggle for survival and of the biological ancestry of man: if the intellect is misleading, the whole of this merely inferred history is presumably untrue. If, on the other hand, we agree with him in thinking that evolution took place as Darwin believed, then it is not only intellect, but all our faculties, that have been developed under the stress of practical utility. Intuition is seen at its best where it is directly useful, for example in regard to other people’s characters and dispositions. Bergson apparently holds that capacity, for this kind of knowledge is less explicable by the struggle for existence than, for example, capacity for pure mathematics. Yet the savage deceived by false friendship is likely to pay for his mistake with his life; whereas even in the most civilised societies men are not put to death for mathematical incompetence. All the most striking of his instances of intuition in animals have a very direct survival value. The fact is, of course, that both intuition and intellect have been developed because they are useful, and that, speaking broadly, they are useful when they give truth and become harmful when they give falsehood. Intellect, in civilised man, like artistic capacity, has occasionally been developed beyond the point where it is useful to the individual; intuition, on the other hand, seems on the whole to diminish as civilisation increases. It is greater, as a rule, in children than in adults, in the uneducated than in the educated. Probably in dogs it exceeds anything to be found in human beings. But those who see in these facts a recommendation of intuition ought to return to running wild in the woods, dyeing themselves with woad and living on hips and haws.\n",
      "\n",
      "Let us next examine whether intuition possesses any such infallibility as Bergson claims for it. The best instance of it, according to him, is our acquaintance with ourselves; yet self-knowledge is proverbially rare and difficult. Most men, for example, have in their nature meannesses, vanities, and envies of which they are quite unconscious, though even their best friends can perceive them without any difficulty. It is true that intuition has a convincingness which is lacking to intellect: while it is present, it is almost impossible to doubt its truth. But if it should appear, on examination, to be at least as fallible as intellect, its greater subjective certainty becomes a demerit, making it only the more irresistibly deceptive. Apart from self-knowledge, one of the most notable examples of intuition is the knowledge people believe themselves to possess of those with whom they are in love: the wall between different personalities seems to become transparent, and people think they see into another soul as into their own. Yet deception in such cases is constantly practised with success; and even where there is no intentional deception, experience gradually proves, as a rule, that the supposed insight was illusory, and that the slower more groping methods of the intellect are in the long run more reliable.\n",
      "\n",
      "Bergson maintains that intellect can only deal with things in so far as they resemble what has been experienced in the past, while intuition has the power of apprehending the uniqueness and novelty that always belong to each fresh moment. That there is something unique and new at every moment, is certainly true; it is also true that this cannot be fully expressed by means of intellectual concepts. Only direct acquaintance can give knowledge of what is unique and new. But direct acquaintance of this kind is given fully in sensation, and does not require, so far as I can see, any special faculty of intuition for its apprehension. It is neither intellect nor intuition, but sensation, that supplies new data; but when the data are new in any remarkable manner, intellect is much more capable of dealing with them than intuition would be. The hen with a brood of ducklings no doubt has intuition which seems to place her inside them, and not merely to know them analytically; but when the ducklings take to the water, the whole apparent intuition is seen to be illusory, and the hen is left helpless on the shore. Intuition, in fact, is an aspect and development of instinct, and, like all instinct, is admirable in those customary surroundings which have moulded the habits of the animal in question, but totally incompetent as soon as the surroundings are changed in a way which demands some non-habitual mode of action.`\n",
      "CONCISE SUMMARY: \n",
      "\u001b[0m\n",
      "Prompt after formatting:\n",
      "\u001b[32;1m\u001b[1;3m\n",
      "Write a short and concise summary of the following:\n",
      "Text: `The theoretical understanding of the world, which is the aim of philosophy, is not a matter of great practical importance to animals, or to savages, or even to most civilised men. It is hardly to be supposed, therefore, that the rapid, rough and ready methods of instinct or intuition will find in this field a favourable ground for their application. It is the older kinds of activity, which bring out our kinship with remote generations of animal and semi-human ancestors, that show intuition at its best. In such matters as self-preservation and love, intuition will act sometimes (though not always) with a swiftness and precision which are astonishing to the critical intellect. But philosophy is not one of the pursuits which illustrate our affinity with the past: it is a highly refined, highly civilised pursuit, demanding, for its success, a certain liberation from the life of instinct, and even, at times, a certain aloofness from all mundane hopes and fears. It is not in philosophy, therefore, that we can hope to see intuition at its best. On the contrary, since the true objects of philosophy, and the habit of thought demanded for their apprehension, are strange, unusual, and remote, it is here, more almost than anywhere else, that intellect proves superior to intuition, and that quick unanalysed convictions are least deserving of uncritical acceptance.\n",
      "\n",
      "In advocating the scientific restraint and balance, as against the self-assertion of a confident reliance upon intuition, we are only urging, in the sphere of knowledge, that largeness of contemplation, that impersonal disinterestedness, and that freedom from practical preoccupations which have been inculcated by all the great religions of the world. Thus our conclusion, however it may conflict with the explicit beliefs of many mystics, is, in essence, not contrary to the spirit which inspires those beliefs, but rather the outcome of this very spirit as applied in the realm of thought.\n",
      "\n",
      "II. Unity and Plurality\n",
      "One of the most convincing aspects of the mystic illumination is the apparent revelation of the oneness of all things, giving rise to pantheism in religion and to monism in philosophy. An elaborate logic, beginning with Parmenides, and culminating in Hegel and his followers, has been gradually developed, to prove that the universe is one indivisible Whole, and that what seem to be its parts, if considered as substantial and self-existing, are mere illusion. The conception of a Reality quite other than the world of appearance, a reality one, indivisible, and unchanging, was introduced into Western philosophy by Parmenides, not, nominally at least, for mystical or religious reasons, but on the basis of a logical argument as to the impossibility of not-being, and most subsequent metaphysical systems are the outcome of this fundamental idea.\n",
      "\n",
      "The logic used in defence of mysticism seems to be faulty as logic, and open to technical criticisms, which I have explained elsewhere. I shall not here repeat these criticisms, since they are lengthy and difficult, but shall instead attempt an analysis of the state of mind from which mystical logic has arisen.\n",
      "\n",
      "Belief in a reality quite different from what appears to the senses arises with irresistible force in certain moods, which are the source of most mysticism, and of most metaphysics. While such a mood is dominant, the need of logic is not felt, and accordingly the more thoroughgoing mystics do not employ logic, but appeal directly to the immediate deliverance of their insight. But such fully developed mysticism is rare in the West. When the intensity of emotional conviction subsides, a man who is in the habit of reasoning will search for logical grounds in favour of the belief which he finds in himself. But since the belief already exists, he will be very hospitable to any ground that suggests itself. The paradoxes apparently proved by his logic are really the paradoxes of mysticism, and are the goal which he feels his logic must reach if it is to be in accordance with insight. The resulting logic has rendered most philosophers incapable of giving any account of the world of science and daily life. If they had been anxious to give such an account, they would probably have discovered the errors of their logic; but most of them were less anxious to understand the world of science and daily life than to convict it of unreality in the interests of a super-sensible “real” world.\n",
      "\n",
      "It is in this way that logic has been pursued by those of the great philosophers who were mystics. But since they usually took for granted the supposed insight of the mystic emotion, their logical doctrines were presented with a certain dryness, and were believed by their disciples to be quite independent of the sudden illumination from which they sprang. Nevertheless their origin clung to them, and they remained—to borrow a useful word from Mr. Santayana—\"malicious” in regard to the world of science and common sense. It is only so that we can account for the complacency with which philosophers have accepted the inconsistency of their doctrines with all the common and scientific facts which seem best established and most worthy of belief.\n",
      "\n",
      "The logic of mysticism shows, as is natural, the defects which are inherent in anything malicious. The impulse to logic, not felt while the mystic mood is dominant, reasserts itself as the mood fades, but with a desire to retain the vanishing insight, or at least to prove that it was insight, and that what seems to contradict it is illusion. The logic which thus arises is not quite disinterested or candid, and is inspired by a certain hatred of the daily world to which it is to be applied. Such an attitude naturally does not tend to the best results. Everyone knows that to read an author simply in order to refute him is not the way to understand him; and to read the book of Nature with a conviction that it is all illusion is just as unlikely to lead to understanding. If our logic is to find the common world intelligible, it must not be hostile, but must be inspired by a genuine acceptance such as is not usually to be found among metaphysicians.\n",
      "\n",
      "III. Time\n",
      "The unreality of time is a cardinal doctrine of many metaphysical systems, often nominally based, as already by Parmenides, upon logical arguments, but originally derived, at any rate in the founders of new systems, from the certainty which is born in the moment of mystic insight. As a Persian Sufi poet says:\n",
      "\n",
      "“Past and future are what veil God from our sight.\n",
      "Burn up both of them with fire! How long\n",
      "Wilt thou be partitioned by these segments as a reed?”[5]\n",
      "\n",
      "The belief that what is ultimately real must be immutable is a very common one: it gave rise to the metaphysical notion of substance, and finds, even now, a wholly illegitimate satisfaction in such scientific doctrines as the conservation of energy and mass.\n",
      "\n",
      "It is difficult to disentangle the truth and the error in this view. The arguments for the contention that time is unreal and that the world of sense is illusory must, I think, be regarded as fallacious. Nevertheless there is some sense—easier to feel than to state—in which time is an unimportant and superficial characteristic of reality. Past and future must be acknowledged to be as real as the present, and a certain emancipation from slavery to time is essential to philosophic thought. The importance of time is rather practical than theoretical, rather in relation to our desires than in relation to truth. A truer image of the world, I think, is obtained by picturing things as entering into the stream of time from an eternal world outside, than from a view which regards time as the devouring tyrant of all that is. Both in thought and in feeling, even though time be real, to realise the unimportance of time is the gate of wisdom.\n",
      "\n",
      "That this is the case may be seen at once by asking ourselves why our feelings towards the past are so different from our feelings towards the future. The reason for this difference is wholly practical: our wishes can affect the future but not the past, the future is to some extent subject to our power, while the past is unalterably fixed. But every future will some day be past: if we see the past truly now, it must, when it was still future, have been just what we now see it to be, and what is now future must be just what we shall see it to be when it has become past. The felt difference of quality between past and future, therefore, is not an intrinsic difference, but only a difference in relation to us: to impartial contemplation, it ceases to exist. And impartiality of contemplation is, in the intellectual sphere, that very same virtue of disinterestedness which, in the sphere of action, appears as justice and unselfishness. Whoever wishes to see the world truly, to rise in thought above the tyranny of practical desires, must learn to overcome the difference of attitude towards past and future, and to survey the whole stream of time in one comprehensive vision.`\n",
      "CONCISE SUMMARY: \n",
      "\u001b[0m\n",
      "Prompt after formatting:\n",
      "\u001b[32;1m\u001b[1;3m\n",
      "Write a short and concise summary of the following:\n",
      "Text: `The kind of way in which, as it seems to me, time ought not to enter into our theoretic philosophical thought, may be illustrated by the philosophy which has become associated with the idea of evolution, and which is exemplified by Nietzsche, pragmatism, and Bergson. This philosophy, on the basis of the development which has led from the lowest forms of life up to man, sees in progress the fundamental law of the universe, and thus admits the difference between earlier and later into the very citadel of its contemplative outlook. With its past and future history of the world, conjectural as it is, I do not wish to quarrel. But I think that, in the intoxication of a quick success, much that is required for a true understanding of the universe has been forgotten. Something of Hellenism, something, too, of Oriental resignation, must be combined with its hurrying Western self-assertion before it can emerge from the ardour of youth into the mature wisdom of manhood. In spite of its appeals to science, the true scientific philosophy, I think, is something more arduous and more aloof, appealing to less mundane hopes, and requiring a severer discipline for its successful practice.\n",
      "\n",
      "Darwin’s Origin of Species persuaded the world that the difference between different species of animals and plants is not the fixed immutable difference that it appears to be. The doctrine of natural kinds, which had rendered classification easy and definite, which was enshrined in the Aristotelian tradition, and protected by its supposed necessity for orthodox dogma, was suddenly swept away for ever out of the biological world. The difference between man and the lower animals, which to our human conceit appears enormous, was shown to be a gradual achievement, involving intermediate being who could not with certainty be placed either within or without the human family. The sun and the planets had already been shown by Laplace to be very probably derived from a primitive more or less undifferentiated nebula. Thus the old fixed landmarks became wavering and indistinct, and all sharp outlines were blurred. Things and species lost their boundaries, and none could say where they began or where they ended.\n",
      "\n",
      "But if human conceit was staggered for a moment by its kinship with the ape, it soon found a way to reassert itself, and that way is the “philosophy” of evolution. A process which led from the am[oe]ba to Man appeared to the philosophers to be obviously a progress—though whether the amœba would agree with this opinion is not known. Hence the cycle of changes which science had shown to be the probable history of the past was welcomed as revealing a law of development towards good in the universe—an evolution or unfolding of an idea slowly embodying itself in the actual. But such a view, though it might satisfy Spencer and those whom we may call Hegelian evolutionists, could not be accepted as adequate by the more whole-hearted votaries of change. An ideal to which the world continuously approaches is, to these minds, too dead and static to be inspiring. Not only the aspiration, but the ideal too, must change and develop with the course of evolution: there must be no fixed goal, but a continual fashioning of fresh needs by the impulse which is life and which alone gives unity to the process.\n",
      "\n",
      "Life, in this philosophy, is a continuous stream, in which all divisions are artificial and unreal. Separate things, beginnings and endings, are mere convenient fictions: there is only smooth unbroken transition. The beliefs of to-day may count as true to-day, if they carry us along the stream; but to-morrow they will be false, and must be replaced by new beliefs to meet the new situation. All our thinking consists of convenient fictions, imaginary congealings of the stream: reality flows on in spite of all our fictions, and though it can be lived, it cannot be conceived in thought. Somehow, without explicit statement, the assurance is slipped in that the future, though we cannot foresee it, will be better than the past or the present: the reader is like the child which expects a sweet because it has been told to open its mouth and shut its eyes. Logic, mathematics, physics disappear in this philosophy, because they are too “static”; what is real is no impulse and movement towards a goal which, like the rainbow, recedes as we advance, and makes every place different when it reaches it from what it appeared to be at a distance.\n",
      "\n",
      "I do not propose to enter upon a technical examination of this philosophy. I wish only to maintain that the motives and interests which inspire it are so exclusively practical, and the problems with which it deals are so special, that it can hardly be regarded as touching any of the questions that, to my mind, constitute genuine philosophy.\n",
      "\n",
      "The predominant interest of evolutionism is in the question of human destiny, or at least of the destiny of Life. It is more interested in morality and happiness than in knowledge for its own sake. It must be admitted that the same may be said of many other philosophies, and that a desire for the kind of knowledge which philosophy can give is very rare. But if philosophy is to attain truth, it is necessary first and foremost that philosophers should acquire the disinterested intellectual curiosity which characterises the genuine man of science. Knowledge concerning the future—which is the kind of knowledge that must be sought if we are to know about human destiny—is possible within certain narrow limits. It is impossible to say how much the limits may be enlarged with the progress of science. But what is evident is that any proposition about the future belongs by its subject-matter to some particular science, and is to be ascertained, if at all, by the methods of that science. Philosophy is not a short cut to the same kind of results as those of the other sciences: if it is to be a genuine study, it must have a province of its own, and aim at results which the other sciences can neither prove nor disprove.\n",
      "\n",
      "Evolutionism, in basing itself upon the notion of progress, which is change from the worse to the better, allows the notion of time, as it seems to me, to become its tyrant rather than its servant, and thereby loses that impartiality of contemplation which is the source of all that is best in philosophic thought and feeling. Metaphysicians, as we saw, have frequently denied altogether the reality of time. I do not wish to do this; I wish only to preserve the mental outlook which inspired the denial, the attitude which, in thought, regards the past as having the same reality as the present and the same importance as the future. “In so far,” says Spinoza,[6] “as the mind conceives a thing according to the dictate of reason, it will be equally affected whether the idea is that of a future, past, or present thing.” It is this “conceiving according to the dictate of reason” that I find lacking in the philosophy which is based on evolution.\n",
      "\n",
      "IV. Good and Evil\n",
      "Mysticism maintains that all evil is illusory, and sometimes maintains the same view as regards good, but more often holds that all Reality is good. Both views are to be found in Heraclitus: “Good and ill are one,” he says, but again, “To God all things are fair and good and right, but men hold some things wrong and some right.” A similar twofold position is to be found in Spinoza, but he uses the word “perfection” when he means to speak of the good that is not merely human. “By reality and perfection I mean the same thing,” he says;[7] but elsewhere we find the definition: “By good I shall mean that which we certainly know to be useful to us.\"[8] Thus perfection belongs to Reality in its own nature, but goodness is relative to ourselves and our needs, and disappears in an impartial survey. Some such distinction, I think, is necessary in order to understand the ethical outlook of mysticism: there is a lower mundane kind of good and evil, which divides the world of appearance into what seem to be conflicting parts; but there is also a higher, mystical kind of good, which belongs to Reality and is not opposed by any correlative kind of evil.\n",
      "\n",
      "It is difficult to give a logically tenable account of this position without recognising that good and evil are subjective, that what is good is merely that towards which we have one kind of feeling, and what is evil is merely that towards which we have another kind of feeling. In our active life, where we have to exercise choice, and to prefer this to that of two possible acts, it is necessary to have a distinction of good and evil, or at least of better and worse. But this distinction, like everything pertaining to action, belongs to what mysticism regards as the world of illusion, if only because it is essentially concerned with time. In our contemplative life, where action is not called for, it is possible to be impartial, and to overcome the ethical dualism which action requires. So long as we remain merely impartial, we may be content to say that both the good and the evil of action are illusions. But if, as we must do if we have the mystic vision, we find the whole world worthy of love and worship, if we see\n",
      "\n",
      "“The earth, and every common sight…\n",
      "Apparell'd in celestial light,”\n",
      "\n",
      "we shall say that there is a higher good than that of action, and that this higher good belongs to the whole world as it is in reality. In this way the twofold attitude and the apparent vacillation of mysticism are explained and justified.`\n",
      "CONCISE SUMMARY: \n",
      "\u001b[0m\n",
      "Prompt after formatting:\n",
      "\u001b[32;1m\u001b[1;3m\n",
      "Write a short and concise summary of the following:\n",
      "Text: `The possibility of this universal love and joy in all that exists is of supreme importance for the conduct and happiness of life, and gives inestimable value to the mystic emotion, apart from any creeds which may be built upon it. But if we are not to be led into false beliefs, it is necessary to realise exactly what the mystic emotion reveals. It reveals a possibility of human nature—a possibility of a nobler, happier, freer life than any that can be otherwise achieved. But it does not reveal anything about the non-human, or about the nature of the universe in general. Good and bad, and even the higher good that mysticism finds everywhere, are the reflections of our own emotions on other things, not part of the substance of things as they are in themselves. And therefore an impartial contemplation, freed from all pre-occupation with Self, will not judge things good or bad, although it is very easily combined with that feeling of universal love which leads the mystic to say that the whole world is good.\n",
      "\n",
      "The philosophy of evolution, through the notion of progress, is bound up with the ethical dualism of the worse and the better, and is thus shut out, not only from the kind of survey which discards good and evil altogether from its view, but also from the mystical belief in the goodness of everything. In this way the distinction of good and evil, like time, becomes a tyrant in this philosophy, and introduces into thought the restless selectiveness of action. Good and evil, like time, are, it would seem, not general or fundamental in the world of thought, but late and highly specialised members of the intellectual hierarchy.\n",
      "\n",
      "Although, as we saw, mysticism can be interpreted so as to agree with the view that good and evil are not intellectually fundamental, it must be admitted that here we are no longer in verbal agreement with most of the great philosophers and religious teachers of the past. I believe, however, that the elimination of ethical considerations from philosophy is both scientifically necessary and—though this may seem a paradox—an ethical advance. Both these contentions must be briefly defended.\n",
      "\n",
      "The hope of satisfaction to our more human desires—the hope of demonstrating that the world has this or that desirable ethical characteristic—is not one which, so far as I can see, a scientific philosophy can do anything whatever to satisfy. The difference between a good world and a bad one is a difference in the particular characteristics of the particular things that exist in these worlds: it is not a sufficiently abstract difference to come within the province of philosophy. Love and hate, for example, are ethical opposites, but to philosophy they are closely analogous attitudes towards objects. The general form and structure of those attitudes towards objects which constitute mental phenomena is a problem for philosophy, but the difference between love and hate is not a difference of form or structure, and therefore belongs rather to the special science of psychology than to philosophy. Thus the ethical interests which have often inspired philosophers must remain in the background: some kind of ethical interest may inspire the whole study, but none must obtrude in the detail or be expected in the special results which are sought.\n",
      "\n",
      "If this view seems at first sight disappointing, we may remind ourselves that a similar change has been found necessary in all the other sciences. The physicist or chemist is not now required to prove the ethical importance of his ions or atoms; the biologist is not expected to prove the utility of the plants or animals which he dissects. In pre-scientific ages this was not the case. Astronomy, for example, was studied because men believed in astrology: it was thought that the movements of the planets had the most direct and important bearing upon the lives of human beings. Presumably, when this belief decayed and the disinterested study of astronomy began, many who had found astrology absorbingly interesting decided that astronomy had too little human interest to be worthy of study. Physics, as it appears in Plato’s Timæus for example, is full of ethical notions: it is an essential part of its purpose to show that the earth is worthy of admiration. The modern physicist, on the contrary, though he has no wish to deny that the earth is admirable, is not concerned, as physicist, with its ethical attributes: he is merely concerned to find out facts, not to consider whether they are good or bad. In psychology, the scientific attitude is even more recent and more difficult than in the physical sciences: it is natural to consider that human nature is either good or bad, and to suppose that the difference between good and bad, so all-important in practice, must be important in theory also. It is only during the last century that an ethically neutral psychology has grown up; and here too, ethical neutrality has been essential to scientific success.\n",
      "\n",
      "In philosophy, hitherto, ethical neutrality has been seldom sought and hardly ever achieved. Men have remembered their wishes, and have judged philosophies in relation to their wishes. Driven from the particular sciences, the belief that the notions of good and evil must afford a key to the understanding of the world has sought a refuge in philosophy. But even from this last refuge, if philosophy is not to remain a set of pleasing dreams, this belief must be driven forth. It is a commonplace that happiness is not best achieved by those who seek it directly; and it would seem that the same is true of the good. In thought, at any rate, those who forget good and evil and seek only to know the facts are more likely to achieve good than those who view the world through the distorting medium of their own desires.\n",
      "\n",
      "We are thus brought back to our seeming paradox, that a philosophy which does not seek to impose upon the world its own conceptions of good and evil is not only more likely to achieve truth, but is also the outcome of a higher ethical standpoint than one which, like evolutionism and most traditional systems, is perpetually appraising the universe and seeking to find in it an embodiment of present ideals. In religion, and in every deeply serious view of the world and of human destiny, there is an element of submission, a realisation of the limits of human power, which is somewhat lacking in the modern world, with its quick material successes and its insolent belief in the boundless possibilities of progress. “He that loveth his life shall lose it”; and there is danger lest, through a too confident love of life, life itself should lose much of what gives it its highest worth. The submission which religion inculcates in action is essentially the same in spirit as that which science teaches in thought; and the ethical neutrality by which its victories have been achieved is the outcome of that submission.\n",
      "\n",
      "The good which it concerns us to remember is the good which it lies in our power to create—the good in our own lives and in our attitude towards the world. Insistence on belief in an external realisation of the good is a form of self-assertion, which, while it cannot secure the external good which it desires, can seriously impair the inward good which lies within our power, and destroy that reverence towards fact which constitutes both what is valuable in humility and what is fruitful in the scientific temper.\n",
      "\n",
      "Human beings cannot, of course, wholly transcend human nature; something subjective, if only the interest that determines the direction of our attention, must remain in all our thought. But scientific philosophy comes nearer to objectivity than any other human pursuit, and gives us, therefore, the closest constant and the most intimate relation with the outer world that it is possible to achieve. To the primitive mind, everything is either friendly or hostile; but experience has shown that friendliness and hostility are not the conceptions by which the world is to be understood. Scientific philosophy thus represents, though as yet only in a nascent condition, a higher form of thought than any pre-scientific belief or imagination, and, like every approach to self-transcendence, it brings with it a rich reward in increase of scope and breadth and comprehension. Evolutionism, in spite of its appeals to particular scientific facts, fails to be a truly scientific philosophy because of its slavery to time, its ethical preoccupations, and its predominant interest in our mundane concerns and destiny. A truly scientific philosophy will be more humble, more piecemeal, more arduous, offering less glitter of outward mirage to flatter fallacious hopes, but more indifferent to fate, and more capable of accepting the world without the tyrannous imposition of our human and temporary demands.`\n",
      "CONCISE SUMMARY: \n",
      "\u001b[0m\n",
      "\n",
      "\u001b[1m> Finished chain.\u001b[0m\n",
      "\n",
      "\n",
      "\u001b[1m> Entering new LLMChain chain...\u001b[0m\n",
      "Prompt after formatting:\n",
      "\u001b[32;1m\u001b[1;3m\n",
      "Write a concise summary of the following text that covers the key points.\n",
      "Add a title to the summary.\n",
      "Start your summary with an INTRODUCTION PARAGRAPH that gives an overview of the topic FOLLOWED\n",
      "by BULLET POINTS if possible AND end the summary with a CONCLUSION PHRASE.\n",
      "Text: `The text discusses the relationship between mysticism and science in the field of philosophy. It argues that the greatest philosophers have recognized the importance of both science and mysticism in understanding the world. The examples of Heraclitus and Plato are used to illustrate this point. Heraclitus blended scientific observation with mystical insight, while Plato's mystic impulse was stronger. Plato's allegory of the cave is used to explain his belief in a higher knowledge beyond the senses. The text concludes that the combination of mysticism and science is the highest achievement in philosophy.\n",
      "\n",
      "The passage discusses the relationship between philosophy and science in Plato's teachings and how it has affected both fields. It also explores the concept of mysticism and its beliefs in insight, unity, the denial of time, and the illusion of good and evil. While the author believes that fully developed mysticism is mistaken, they acknowledge that there is wisdom to be learned from the mystical way of feeling. The author suggests that mysticism can be seen as an attitude towards life rather than a creed about the world, and that it can inspire and enhance scientific inquiry.\n",
      "\n",
      "The author discusses the relationship between reason and intuition, arguing that while intuition can lead to important insights, it is not a sufficient guarantee of truth. Reason, on the other hand, acts as a controlling force that tests and confirms or refutes beliefs. The author criticizes Bergson's advocacy of intuition over intellect, arguing that both have their strengths and weaknesses. They also question the infallibility of intuition and argue that direct sensory experience, rather than intuition, is the source of unique and new knowledge. The author concludes that intuition is a form of instinct and is only reliable in familiar situations.\n",
      "\n",
      "The text discusses the relationship between philosophy, intuition, and mysticism. It argues that philosophy, being a highly refined and intellectual pursuit, does not rely on intuition but rather on critical thinking and analysis. It also criticizes the logic used by mystics and philosophers who advocate for the oneness of all things and the unreality of time. The text suggests that a more balanced and objective approach is needed to understand the world and overcome the limitations of practical desires.\n",
      "\n",
      "The text discusses the philosophy of evolution and its impact on the concept of time. It argues that evolutionism, while focusing on progress and change, loses the impartiality necessary for philosophical thought. The text also explores the ideas of good and evil in mysticism, suggesting that they are subjective and that a higher, mystical kind of good exists beyond the dualism of action.\n",
      "\n",
      "The text discusses the importance of the mystic emotion and its revelation of a possibility for a better and happier life. It argues that good and evil are subjective reflections of our own emotions and not inherent in the nature of things. The text also suggests that ethical considerations should be eliminated from philosophy in order to achieve scientific neutrality. It compares this shift to the elimination of ethical considerations in other sciences. The text concludes that a philosophy that does not impose its own conceptions of good and evil on the world is more likely to achieve truth and is ethically superior. It emphasizes the importance of submission and humility in both religion and science. The text also highlights the rewards of scientific philosophy in terms of increased scope and comprehension. It criticizes evolutionism for its preoccupation with time, ethical concerns, and human destiny. A truly scientific philosophy, according to the text, should be humble, piecemeal, and indifferent to fate.`\n",
      "\u001b[0m\n",
      "\n",
      "\u001b[1m> Finished chain.\u001b[0m\n",
      "\n",
      "\u001b[1m> Finished chain.\u001b[0m\n"
     ]
    }
   ],
   "source": [
    "summary_chain = load_summarize_chain(\n",
    "    llm = llm,\n",
    "    chain_type=\"map_reduce\",\n",
    "    map_prompt=map_prompt_template,\n",
    "    combine_prompt=combine_prompt_template,\n",
    "    verbose=True\n",
    ")\n",
    "\n",
    "output = summary_chain.run(docs)"
   ]
  },
  {
   "cell_type": "code",
   "execution_count": 42,
   "metadata": {},
   "outputs": [
    {
     "name": "stdout",
     "output_type": "stream",
     "text": [
      "Title: The Relationship Between Mysticism and Science in Philosophy\n",
      "\n",
      "Introduction:\n",
      "The text explores the relationship between mysticism and science in the field of philosophy, highlighting the importance of both in understanding the world. It discusses the teachings of Plato and Heraclitus as examples of philosophers who recognized the significance of blending scientific observation with mystical insight.\n",
      "\n",
      "Key Points:\n",
      "- Plato's allegory of the cave illustrates his belief in a higher knowledge beyond the senses, emphasizing the role of mysticism in his philosophy.\n",
      "- The combination of mysticism and science is considered the highest achievement in philosophy.\n",
      "- The author acknowledges the wisdom to be gained from the mystical way of feeling, suggesting that mysticism can inspire and enhance scientific inquiry.\n",
      "- Reason is seen as a controlling force that tests and confirms or refutes beliefs, while intuition is considered a form of instinct reliable only in familiar situations.\n",
      "- The text criticizes the logic used by mystics and philosophers advocating for the oneness of all things and the unreality of time, suggesting a more balanced and objective approach is needed.\n",
      "- Evolutionism is criticized for its focus on progress and change, which the text argues lacks the impartiality necessary for philosophical thought.\n",
      "- The concept of good and evil in mysticism is explored, suggesting that they are subjective and that a higher, mystical kind of good exists beyond dualism.\n",
      "- Ethical considerations should be eliminated from philosophy to achieve scientific neutrality, similar to other sciences.\n",
      "- A truly scientific philosophy should be humble, piecemeal, and indifferent to fate.\n",
      "\n",
      "Conclusion:\n",
      "The text emphasizes the importance of combining mysticism and science in philosophy, recognizing the value of both approaches in understanding the world. It suggests that a balanced and objective perspective, free from ethical considerations, is necessary for achieving truth and ethical superiority.\n"
     ]
    }
   ],
   "source": [
    "print(output)"
   ]
  },
  {
   "cell_type": "markdown",
   "metadata": {},
   "source": [
    "## Summarizing using the refine chain"
   ]
  },
  {
   "cell_type": "code",
   "execution_count": 2,
   "metadata": {},
   "outputs": [
    {
     "data": {
      "text/plain": [
       "True"
      ]
     },
     "execution_count": 2,
     "metadata": {},
     "output_type": "execute_result"
    }
   ],
   "source": [
    "from langchain.chat_models import ChatOpenAI\n",
    "from langchain import PromptTemplate\n",
    "from langchain.chains.summarize import load_summarize_chain\n",
    "from langchain.text_splitter import RecursiveCharacterTextSplitter\n",
    "from langchain.document_loaders import UnstructuredPDFLoader\n",
    "\n",
    "import os\n",
    "from dotenv import load_dotenv, find_dotenv\n",
    "load_dotenv(find_dotenv(), override=True)"
   ]
  },
  {
   "cell_type": "code",
   "execution_count": 4,
   "metadata": {},
   "outputs": [
    {
     "name": "stderr",
     "output_type": "stream",
     "text": [
      "[nltk_data] Downloading package punkt to /home/yabreu/nltk_data...\n",
      "[nltk_data]   Unzipping tokenizers/punkt.zip.\n",
      "[nltk_data] Downloading package averaged_perceptron_tagger to\n",
      "[nltk_data]     /home/yabreu/nltk_data...\n",
      "[nltk_data]   Unzipping taggers/averaged_perceptron_tagger.zip.\n"
     ]
    }
   ],
   "source": [
    "loader = UnstructuredPDFLoader(\"../files/Albert Camus - The Myth of Sisyphus_ And Other Essays (1991, Vintage) - libgen.li.pdf\")\n",
    "data = loader.load()"
   ]
  },
  {
   "cell_type": "code",
   "execution_count": 6,
   "metadata": {},
   "outputs": [],
   "source": [
    "# print(data[0].page_content)"
   ]
  },
  {
   "cell_type": "code",
   "execution_count": 7,
   "metadata": {},
   "outputs": [],
   "source": [
    "text_splitter = RecursiveCharacterTextSplitter(chunk_size=10000, chunk_overlap=100)\n",
    "chunks = text_splitter.split_documents(data)"
   ]
  },
  {
   "cell_type": "code",
   "execution_count": 8,
   "metadata": {},
   "outputs": [
    {
     "data": {
      "text/plain": [
       "34"
      ]
     },
     "execution_count": 8,
     "metadata": {},
     "output_type": "execute_result"
    }
   ],
   "source": [
    "len(chunks)"
   ]
  },
  {
   "cell_type": "code",
   "execution_count": 9,
   "metadata": {},
   "outputs": [],
   "source": [
    "llm = ChatOpenAI(temperature=0, model_name=\"gpt-3.5-turbo\")"
   ]
  },
  {
   "cell_type": "code",
   "execution_count": 10,
   "metadata": {},
   "outputs": [
    {
     "name": "stdout",
     "output_type": "stream",
     "text": [
      "Total Tokens: 69458\n",
      "Embedding Cost in USD: 0.138916\n"
     ]
    }
   ],
   "source": [
    "def print_embedding_cost(texts):\n",
    "    import tiktoken\n",
    "    enc = tiktoken.encoding_for_model(\"gpt-3.5-turbo\")\n",
    "    total_tokens = sum([len(enc.encode(page.page_content)) for page in texts])\n",
    "    print(f\"Total Tokens: {total_tokens}\")\n",
    "    print(f\"Embedding Cost in USD: {total_tokens / 1000 * 0.002:.6f}\")\n",
    "    \n",
    "print_embedding_cost(chunks)"
   ]
  },
  {
   "cell_type": "code",
   "execution_count": 11,
   "metadata": {},
   "outputs": [],
   "source": [
    "chain = load_summarize_chain(\n",
    "    llm=llm,\n",
    "    chain_type=\"refine\",\n",
    "    verbose=False\n",
    ")\n",
    "output_summary = chain.run(chunks)"
   ]
  },
  {
   "cell_type": "code",
   "execution_count": 13,
   "metadata": {},
   "outputs": [
    {
     "name": "stdout",
     "output_type": "stream",
     "text": [
      "\"The Myth of Sisyphus and Other Essays\" by Albert Camus explores the concept of the absurd and its relationship to suicide. Camus argues that the question of whether life is worth living is the most urgent philosophical problem. He discusses the causes of suicide and the feeling of absurdity that can lead to it. Camus suggests that living in a world devoid of illusions and meaning can make one feel like an alien, leading to a longing for death. He explores the connection between the absurd and suicide and questions whether embracing the absurdity of existence should lead to the choice of suicide. The text also delves into the contradictions and obscurities surrounding the relationship between one's opinion about life and the act of suicide. Camus emphasizes the importance of examining the absurdity of existence and the role of hope in escaping it. The book explores the concept of absurdity in various aspects of life, including intelligence, the art of living, and art itself. The additional context provided delves into the experience of weariness, the perception of the world as dense and strange, the inhuman aspects of humanity, and the contemplation of death. It also touches on the mind's struggle to understand reality and the limitations of human knowledge. The text further explores the themes of irrational and religious thought, the significance of anxiety and anguish in the human condition, and the ephemeral nature of existence in an absurd world. The new context introduces the ideas of various philosophers, such as Jaspers, Chestov, Kierkegaard, and Husserl, who all contribute to the understanding of the absurd and its implications. The notion of the absurd is explored as a divorce between man and the world, a comparison between a bare fact and a certain reality. The new context also raises the question of suicide and the possible interest in the conclusions of existential philosophy. The text analyzes the escape mechanisms proposed by existential philosophers and their reliance on religious hope. It questions whether these attitudes truly align with the absurd and the conditions set forth by the concept. The text further explores the existential attitude as a form of philosophical suicide, where thought negates itself and tends to transcend itself in its very negation. The text also delves into the theme of intentionality and phenomenology, discussing the idea that thinking is not unifying or making the appearance familiar, but rather learning how to see and directing one's consciousness. It explores the concept of truth and the essence of objects of knowledge, highlighting the tension between psychological truth and rational truth. The text also touches on the idea of a concrete universe and the confusion of terms in defining the concrete and the abstract. Overall, the book delves into the complexities of the absurd and its implications for human existence, exploring various philosophical ideas and questioning traditional notions of truth and meaning. It emphasizes the importance of persisting in the face of the absurd and finding a way to live without appeal. The new context further explores the themes of freedom, the limitations of individual experience, and the concept of death as the ultimate reality. It discusses the idea that the absurd man is not truly free, as he is bound by the postulates and beliefs of society. However, the absurd also brings a certain inner freedom, as it reveals the lack of a future and the need to live in the present moment. The text draws comparisons to mystics and slaves, highlighting the idea that true freedom can be found in accepting one's limitations and embracing the absurdity of existence. The text also explores the idea of consciousness and the importance of being aware of one's life, revolt, and freedom. It argues that by embracing the absurd, one can transform it into a rule of life and refuse suicide. The text discusses the role of prayer and the encounter with the night of despair, which can lead to a passionate understanding of the absurd. It emphasizes the need to go beyond a single way of seeing and to live fully in the face of the absurd. Additionally, the text explores the idea that all experiences are indifferent in the absurd world. The new context also delves into the role of the artist in society and the need to simultaneously serve suffering and beauty. It discusses the temptation for artists to retreat into an ivory tower or become consumed by social preaching, but argues that true art must maintain a balance between the two. The text emphasizes the importance of artists engaging with everyday life and using their art to give a voice to the oppressed and marginalized. It argues that art is not the enemy of society, but rather a gift to the future that helps establish justice and liberty. The text also touches on various philosophical ideas and interpretations, including those of Kafka and Gogol, and the concept of satiety. It concludes by stating that this essay deals with a certain temptation and the importance of having known it in order to make informed choices.\n"
     ]
    }
   ],
   "source": [
    "print(output_summary)"
   ]
  },
  {
   "cell_type": "markdown",
   "metadata": {},
   "source": [
    "## refine with Custom Prompts"
   ]
  },
  {
   "cell_type": "code",
   "execution_count": 15,
   "metadata": {},
   "outputs": [],
   "source": [
    "prompt_template = \"\"\"\n",
    "Write a concise summary of the following extracting the key information:\n",
    "Text: `{text}`\n",
    "CONCISE SUMMARY:\n",
    "\"\"\"\n",
    "initial_prompt = PromptTemplate(template=prompt_template, input_variables=[\"text\"])\n",
    "\n",
    "refine_template = \"\"\"\n",
    "    Your job is to produce a final summary.\n",
    "    I have provided an existing summary up to a certain point: {existing_answer}.\n",
    "    Please refine the existing summary with some more context below.\n",
    "    -------------\n",
    "    {text}\n",
    "    -------------\n",
    "    Start the final summary with an INTRODUCTION PARAGRAPH that gives an orverview of the topic FOLLOWED\n",
    "    by BULLET POINTS if possible AND end the summary with a CONCLUSION PHRASE.\n",
    "\"\"\"\n",
    "refine_prompt = PromptTemplate(\n",
    "    template=refine_template,\n",
    "    input_variables=[\"existing_answer\", \"text\"]\n",
    "    )\n",
    "\n",
    "chain = load_summarize_chain(\n",
    "    llm=llm,\n",
    "    chain_type=\"refine\",\n",
    "    question_prompt=initial_prompt,\n",
    "    refine_prompt=refine_prompt,\n",
    "    return_intermediate_steps=False\n",
    ")\n",
    "output_summary = chain.run(chunks)"
   ]
  },
  {
   "cell_type": "code",
   "execution_count": 16,
   "metadata": {},
   "outputs": [
    {
     "name": "stdout",
     "output_type": "stream",
     "text": [
      "\"The Myth of Sisyphus and Other Essays\" by Albert Camus is a profound exploration of the human condition and the search for meaning in a seemingly meaningless world. Camus challenges traditional notions of success and victory, urging individuals to confront the absurdity of existence and find purpose in the face of mortality. The book delves into the relationship between philosophy and fiction, highlighting the role of creation and art in the face of the absurd. Camus emphasizes the importance of living authentically and embracing the constant tension between the finite and the infinite. The essays in the collection provide a comprehensive exploration of the human experience and the search for meaning, challenging readers to confront the absurdity of existence and find solace and meaning in the act of creation. Ultimately, Camus encourages individuals to embrace the absurd and live fully in the face of the unknown, finding purpose and solace in the act of creating. The book offers a thought-provoking examination of the human condition, challenging traditional notions of success and victory and emphasizing the importance of living authentically. Through the exploration of the relationship between philosophy and fiction, Camus highlights the role of creation and art in the face of the absurd. Ultimately, he encourages individuals to embrace the absurd and find solace and purpose in the act of creation, urging them to live fully in the face of the unknown. The book also discusses the works of other existential novelists and philosophers, such as Kafka, Kierkegaard, and Chestov, and their exploration of the absurd. Camus suggests that hope can be found within the acceptance of the absurd and the pursuit of authenticity. The essays also touch on the significance of the body and its evolution, as well as the silence and boredom of summer evenings in Algiers. Camus reflects on the beauty and innocence found in these moments, as well as the childlike nature of the people in the region. The streets of Oran are described as a desert, devoid of interesting circles and filled with absurd and extravagant shops. The youth of Oran find pleasure in getting their shoes shined and displaying them on the boulevard, imitating the elegance of American films. The book offers a profound examination of the human condition, challenging traditional notions and urging individuals to embrace the absurd and find meaning in the act of creation. The essays explore the relationship between philosophy and fiction, emphasizing the role of creation and art in the face of the absurd. Camus encourages individuals to live authentically and embrace the tension between the finite and the infinite, finding solace and purpose in the act of creating. The essays also discuss the works of other existential thinkers and highlight the significance of the body and the beauty found in everyday moments. In conclusion, \"The Myth of Sisyphus and Other Essays\" provides a thought-provoking exploration of the human experience and the search for meaning, challenging readers to confront the absurdity of existence and find solace in the act of creation. The book offers a comprehensive examination of the human condition, urging individuals to embrace the absurd and find purpose in the face of mortality.\n"
     ]
    }
   ],
   "source": [
    "print(output_summary)"
   ]
  },
  {
   "cell_type": "markdown",
   "metadata": {},
   "source": [
    "## Summarizing using LangChain Agents"
   ]
  },
  {
   "cell_type": "code",
   "execution_count": 17,
   "metadata": {},
   "outputs": [],
   "source": [
    "from langchain.chat_models import ChatOpenAI\n",
    "from langchain.agents import initialize_agent, Tool\n",
    "from langchain.utilities import WikipediaAPIWrapper"
   ]
  },
  {
   "cell_type": "code",
   "execution_count": 18,
   "metadata": {},
   "outputs": [
    {
     "data": {
      "text/plain": [
       "True"
      ]
     },
     "execution_count": 18,
     "metadata": {},
     "output_type": "execute_result"
    }
   ],
   "source": [
    "import os\n",
    "from dotenv import load_dotenv, find_dotenv\n",
    "load_dotenv(find_dotenv(), override=True)"
   ]
  },
  {
   "cell_type": "code",
   "execution_count": 19,
   "metadata": {},
   "outputs": [],
   "source": [
    "llm = ChatOpenAI(temperature=0, model_name=\"gpt-3.5-turbo\")\n",
    "wikipedia = WikipediaAPIWrapper()"
   ]
  },
  {
   "cell_type": "code",
   "execution_count": 20,
   "metadata": {},
   "outputs": [],
   "source": [
    "tools = [\n",
    "    Tool(\n",
    "        name=\"Wikipedia\",\n",
    "        func=wikipedia.run,\n",
    "        description=\"Useful for when you need to get information from wikipedia about a topic\"\n",
    "    )\n",
    "]"
   ]
  },
  {
   "cell_type": "code",
   "execution_count": 21,
   "metadata": {},
   "outputs": [],
   "source": [
    "agent_executor = initialize_agent(tools, llm, agent=\"zero-shot-react-description\", verbose=True)"
   ]
  },
  {
   "cell_type": "code",
   "execution_count": 27,
   "metadata": {},
   "outputs": [
    {
     "name": "stdout",
     "output_type": "stream",
     "text": [
      "\n",
      "\n",
      "\u001b[1m> Entering new AgentExecutor chain...\u001b[0m\n",
      "\u001b[32;1m\u001b[1;3mI should look up the definition of alchemy to provide an accurate summary.\n",
      "Action: Wikipedia\n",
      "Action Input: Alchemy\u001b[0m\n",
      "Observation: \u001b[36;1m\u001b[1;3mPage: Alchemy\n",
      "Summary: Alchemy (from Arabic: al-kīmiyā; from Ancient Greek: χυμεία, khumeía) is an ancient branch of natural philosophy, a philosophical and protoscientific tradition that was historically practiced in China, India, the Muslim world, and Europe. In its Western form, alchemy is first attested in a number of pseudepigraphical texts written in Greco-Roman Egypt during the first few centuries AD.Alchemists attempted to purify, mature, and perfect certain materials. Common aims were chrysopoeia, the transmutation of \"base metals\" (e.g., lead) into \"noble metals\" (particularly gold); the creation of an elixir of immortality; and the creation of panaceas able to cure any disease. The perfection of the human body and soul was thought to result from the alchemical magnum opus (\"Great Work\"). The concept of creating the philosophers' stone was variously connected with all of these projects.\n",
      "Islamic and European alchemists developed a basic set of laboratory techniques, theories, and terms, some of which are still in use today. They did not abandon the Ancient Greek philosophical idea that everything is composed of four elements, and they tended to guard their work in secrecy, often making use of cyphers and cryptic symbolism. In Europe, the 12th-century translations of medieval Islamic works on science and the rediscovery of Aristotelian philosophy gave birth to a flourishing tradition of Latin alchemy. This late medieval tradition of alchemy would go on to play a significant role in the development of early modern science (particularly chemistry and medicine).Modern discussions of alchemy are generally split into an examination of its exoteric practical applications and its esoteric spiritual aspects, despite criticisms by scholars such as Eric J. Holmyard and Marie-Louise von Franz that they should be understood as complementary. The former is pursued by historians of the physical sciences, who examine the subject in terms of early chemistry, medicine, and charlatanism, and the philosophical and religious contexts in which these events occurred. The latter interests historians of esotericism, psychologists, and some philosophers and spiritualists. The subject has also made an ongoing impact on literature and the arts.\n",
      "\n",
      "\n",
      "\n",
      "Page: Alchemical symbol\n",
      "Summary: Alchemical symbols, originally devised as part of alchemy, were used to denote some elements and some compounds until the 18th century. Although notation was partly standardized, style and symbol varied between alchemists.  Lüdy-Tenger published an inventory of 3,695 symbols and variants, and that was not exhaustive, omitting for example many of the symbols used by Isaac Newton. This page therefore lists only the most common symbols.\n",
      "\n",
      "Page: Alchemy of Souls\n",
      "Summary: Alchemy of Souls (Korean: 환혼) is a South Korean television series starring Lee Jae-wook, Jung So-min, Go Youn-jung, and Hwang Min-hyun. Written by the Hong sisters, it depicts the stories of young mages dealing with heaven and earth. It aired on tvN from June 18, 2022 to January 8, 2023, every Saturday and Sunday at 21:10 (KST) time slot for 30 episodes. It is also available for streaming on TVING and Netflix in selected regions.The series was divided into two parts: Part 1 aired from June 18 to August 28, 2022 for 20 episodes, while Part 2 (Alchemy of Souls: Light and Shadow) aired from December 10, 2022 to January 8, 2023 for 10 episodes.\n",
      "\n",
      "\u001b[0m\n",
      "Thought:\u001b[32;1m\u001b[1;3mI now know the final answer\n",
      "Final Answer: Alchemy is an ancient branch of natural philosophy and a philosophical and protoscientific tradition that was historically practiced in China, India, the Muslim world, and Europe. Alchemists attempted to purify, mature, and perfect certain materials, with common aims including transmuting base metals into noble metals, creating an elixir of immortality, and developing panaceas. Alchemy also involved the concept of creating the philosophers' stone. Islamic and European alchemists developed laboratory techniques, theories, and terms, and the tradition of alchemy played a significant role in the development of early modern science. Modern discussions of alchemy examine its practical applications and esoteric spiritual aspects.\u001b[0m\n",
      "\n",
      "\u001b[1m> Finished chain.\u001b[0m\n"
     ]
    }
   ],
   "source": [
    "output = agent_executor.run(\"Can you please provide a short summary of what is alchemy?\")"
   ]
  },
  {
   "cell_type": "code",
   "execution_count": 28,
   "metadata": {},
   "outputs": [
    {
     "name": "stdout",
     "output_type": "stream",
     "text": [
      "Alchemy is an ancient branch of natural philosophy and a philosophical and protoscientific tradition that was historically practiced in China, India, the Muslim world, and Europe. Alchemists attempted to purify, mature, and perfect certain materials, with common aims including transmuting base metals into noble metals, creating an elixir of immortality, and developing panaceas. Alchemy also involved the concept of creating the philosophers' stone. Islamic and European alchemists developed laboratory techniques, theories, and terms, and the tradition of alchemy played a significant role in the development of early modern science. Modern discussions of alchemy examine its practical applications and esoteric spiritual aspects.\n"
     ]
    }
   ],
   "source": [
    "print(output)"
   ]
  }
 ],
 "metadata": {
  "kernelspec": {
   "display_name": "Python 3 (ipykernel)",
   "language": "python",
   "name": "python3"
  },
  "language_info": {
   "codemirror_mode": {
    "name": "ipython",
    "version": 3
   },
   "file_extension": ".py",
   "mimetype": "text/x-python",
   "name": "python",
   "nbconvert_exporter": "python",
   "pygments_lexer": "ipython3",
   "version": "3.11.5"
  }
 },
 "nbformat": 4,
 "nbformat_minor": 4
}
